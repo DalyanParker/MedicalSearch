{
 "cells": [
  {
   "cell_type": "code",
   "execution_count": 1,
   "metadata": {},
   "outputs": [],
   "source": [
    "import requests\n",
    "from bs4 import BeautifulSoup as soup\n",
    "import re\n",
    "import urllib.parse\n",
    "from urllib.request import Request, urlopen\n",
    "from urllib.parse import urlparse\n",
    "import random\n",
    "import json"
   ]
  },
  {
   "cell_type": "code",
   "execution_count": 2,
   "metadata": {},
   "outputs": [],
   "source": [
    "def googleSearch(query):\n",
    "    g_clean = [ ] \n",
    "    url = 'https://www.google.com/search?client=ubuntu&channel=fs&q={}&ie=utf-8&oe=utf-8'.format(query) \n",
    "    try:\n",
    "            html = requests.get(url)\n",
    "            if html.status_code==200:\n",
    "                page_soup = soup(html.text, 'lxml')\n",
    "                a = page_soup.find_all('a') \n",
    "                for i in a:\n",
    "                    k = i.get('href')\n",
    "                    try:\n",
    "                        m = re.search(\"(?P<url>https?://[^\\s]+)\", k)\n",
    "                        n = m.group(0)\n",
    "                        rul = n.split('&')[0]\n",
    "                        domain = urlparse(rul)\n",
    "                        if(re.search('google.com', domain.netloc)):\n",
    "                            continue\n",
    "                        else:\n",
    "                            g_clean.append(rul)\n",
    "                    except:\n",
    "                        continue\n",
    "    except Exception as ex:\n",
    "            print(str(ex))\n",
    "    finally:\n",
    "            return g_clean"
   ]
  },
  {
   "cell_type": "code",
   "execution_count": 3,
   "metadata": {},
   "outputs": [
    {
     "data": {
      "text/plain": [
       "['https://www.webmd.com/pain-management/lower-leg-pain-causes-and-treatments',\n",
       " 'https://www.webmd.com/pain-management/ss/slideshow-leg-pain-causes',\n",
       " 'https://www.webmd.com/dvt/why-legs-puffy',\n",
       " 'https://www.webmd.com/fitness-exercise/video/gym-smarts-calf-exercises',\n",
       " 'https://www.webmd.com/fitness-exercise/shin-splints',\n",
       " 'https://www.webmd.com/pain-management/ss/slideshow-leg-pain-causes',\n",
       " 'https://www.mayoclinic.org/symptoms/leg-pain/basics/causes/sym-20050784',\n",
       " 'https://www.mayoclinic.org/symptoms/leg-pain/basics/when-to-see-doctor/sym-20050784',\n",
       " 'https://www.medicalnewstoday.com/articles/241968',\n",
       " 'https://www.healthline.com/health/leg-pain',\n",
       " 'https://www.medicinenet.com/leg_pain/symptoms.htm',\n",
       " 'https://medlineplus.gov/ency/article/003182.htm',\n",
       " 'https://www.health.harvard.edu/pain/when-walking-makes-your-legs-hurt']"
      ]
     },
     "execution_count": 3,
     "metadata": {},
     "output_type": "execute_result"
    }
   ],
   "source": [
    "googleSearch('leg pain')"
   ]
  },
  {
   "cell_type": "code",
   "execution_count": 4,
   "metadata": {},
   "outputs": [],
   "source": [
    "def randomAgent():\n",
    "    \n",
    "    randomAgents = [\n",
    "        'Mozilla/5.0 (Macintosh; U; Intel Mac OS X 10.5; en-US; rv:1.9.1b3) Gecko/20090305 Firefox/3.1b3 GTB5',\n",
    "        'Mozilla/5.0 (Macintosh; U; Intel Mac OS X 10.5; ko; rv:1.9.1b2) Gecko/20081201 Firefox/3.1b2'        ,\n",
    "        'Mozilla/5.0 (X11; U; SunOS sun4u; en-US; rv:1.9b5) Gecko/2008032620 Firefox/3.0b5',\n",
    "        'Mozilla/5.0 (Windows NT 6.1; WOW64; rv:2.0b8pre) Gecko/20101114 Firefox/4.0b8pre',\n",
    "        'Mozilla/5.0 (X11; Linux x86_64; rv:2.0b9pre) Gecko/20110111 Firefox/4.0b9pre'\n",
    "        'Mozilla/5.0 (Windows NT 6.1; Win64; x64; rv:2.0b9pre) Gecko/20101228 Firefox/4.0b9pre'\n",
    "        'Mozilla/5.0 (Windows NT 6.1; Win64; x64; rv:2.2a1pre) Gecko/20110324 Firefox/4.2a1pre'\n",
    "        'Mozilla/5.0 (X11; U; Linux amd64; rv:5.0) Gecko/20100101 Firefox/5.0 (Debian)'\n",
    "        'Mozilla/5.0 (Windows NT 6.1; WOW64; rv:6.0a2) Gecko/20110613 Firefox/6.0a2'\n",
    "        'Mozilla/5.0 (X11; Linux i686 on x86_64; rv:12.0) Gecko/20100101 Firefox/12.0'\n",
    "                   ]\n",
    "    \n",
    "    return random.choice(randomAgents)"
   ]
  },
  {
   "cell_type": "code",
   "execution_count": 5,
   "metadata": {},
   "outputs": [],
   "source": [
    "def scrape(url):\n",
    "        \n",
    "        req = Request(url, headers={'User-Agent' : randomAgent()})\n",
    "        \n",
    "        webpage = urlopen(req).read()\n",
    "        return webpage"
   ]
  },
  {
   "cell_type": "code",
   "execution_count": 6,
   "metadata": {},
   "outputs": [],
   "source": [
    "page = scrape('https://www.webmd.com/pain-management/lower-leg-pain-causes-and-treatments')"
   ]
  },
  {
   "cell_type": "code",
   "execution_count": 7,
   "metadata": {},
   "outputs": [],
   "source": [
    "def scrapeByTag(webpage, tag):\n",
    "    \n",
    "        page_soup = soup(webpage,'html.parser')\n",
    "        taglist = page_soup.findAll(tag)\n",
    "        \n",
    "        return taglist"
   ]
  },
  {
   "cell_type": "code",
   "execution_count": 8,
   "metadata": {},
   "outputs": [],
   "source": [
    "def scrapeByClassName(webpage, tag, classname):\n",
    "\n",
    "        page_soup = soup(webpage,'html.parser')\n",
    "        classlist = page_soup.findAll(tag, class_=classname)\n",
    "        \n",
    "        return classlist"
   ]
  },
  {
   "cell_type": "code",
   "execution_count": 9,
   "metadata": {},
   "outputs": [],
   "source": [
    "def formatText(text, i): \n",
    "    \n",
    "        text = str(text)\n",
    "    \n",
    "        cleaned = re.sub(r\"<{}>|<{}>\", \"\", text).format(i)\n",
    "        \n",
    "        return cleaned"
   ]
  },
  {
   "cell_type": "code",
   "execution_count": 10,
   "metadata": {},
   "outputs": [],
   "source": [
    "def extract(webpage):\n",
    "    \n",
    "    extractions = {}\n",
    "    \n",
    "    tagTypes = ['title', 'h','h1', 'h2', 'h3', 'h4', 'h5', 'h6', 'p', 'a', 'meta']\n",
    "    \n",
    "    for i in tagTypes:\n",
    "        \n",
    "        \n",
    "        e = scrapeByTag(webpage, i)\n",
    "        formatted = []\n",
    "        \n",
    "        for item in e:\n",
    "            \n",
    "            formatted.append(str(item))\n",
    "            \n",
    "        extractions[i] = formatted\n",
    "    \n",
    "    return extractions"
   ]
  },
  {
   "cell_type": "code",
   "execution_count": 11,
   "metadata": {},
   "outputs": [],
   "source": [
    "def meta(webpage):\n",
    "    \n",
    "    metaTags = {}\n",
    "    \n",
    "    types = ['meta']\n",
    "    \n",
    "    for i in tagTypes:\n",
    "        \n",
    "        \n",
    "        e = scrapeByTag(webpage, i)\n",
    "        \n",
    "        for item in e:\n",
    "            item = formatText(item, i)\n",
    "        \n",
    "        extractions[i] = e\n",
    "    \n",
    "    return metaTags"
   ]
  },
  {
   "cell_type": "code",
   "execution_count": 12,
   "metadata": {},
   "outputs": [],
   "source": [
    "def classnameSearch(taglist, keyword):\n",
    "    \n",
    "    retrieved = []\n",
    "    \n",
    "    for i in taglist:\n",
    "        \n",
    "        if keyword in str(i):    \n",
    "            retrieved.append(i)\n",
    "            \n",
    "        \n",
    "    return retrieved"
   ]
  },
  {
   "cell_type": "code",
   "execution_count": 36,
   "metadata": {},
   "outputs": [],
   "source": [
    "def toJSON(title, obj, location):\n",
    "    with open(location + '/' + title + '.json', 'w', encoding='utf-8') as f:\n",
    "        json.dump(obj, f, ensure_ascii=False, indent=4)\n",
    "    return"
   ]
  },
  {
   "cell_type": "code",
   "execution_count": 65,
   "metadata": {},
   "outputs": [],
   "source": [
    "def createResources(query, folder):\n",
    "    \n",
    "    links = googleSearch(query)\n",
    "    count = 0\n",
    "    \n",
    "    for url in links: \n",
    "        \n",
    "        print('processing... rank {} : '.format(count) + url)\n",
    "        \n",
    "        page = scrape(url)\n",
    "        extraction = extract(page)\n",
    "        extraction['site address'] = url\n",
    "        toJSON('Site_' + str(count), extraction, folder)\n",
    "        \n",
    "        count += 1\n",
    "    \n",
    "    print ('\\nprocessing complete')\n",
    "    return"
   ]
  },
  {
   "cell_type": "code",
   "execution_count": 64,
   "metadata": {},
   "outputs": [
    {
     "name": "stdout",
     "output_type": "stream",
     "text": [
      "processing... rank 0 : https://www.webmd.com/pain-management/lower-leg-pain-causes-and-treatments\n",
      "processing... rank 1 : https://www.webmd.com/pain-management/ss/slideshow-leg-pain-causes\n",
      "processing... rank 2 : https://www.webmd.com/dvt/why-legs-puffy\n",
      "processing... rank 3 : https://www.webmd.com/fitness-exercise/video/gym-smarts-calf-exercises\n",
      "processing... rank 4 : https://www.webmd.com/fitness-exercise/shin-splints\n",
      "processing... rank 5 : https://www.webmd.com/pain-management/ss/slideshow-leg-pain-causes\n",
      "processing... rank 6 : https://www.mayoclinic.org/symptoms/leg-pain/basics/causes/sym-20050784\n",
      "processing... rank 7 : https://www.mayoclinic.org/symptoms/leg-pain/basics/when-to-see-doctor/sym-20050784\n",
      "processing... rank 8 : https://www.medicalnewstoday.com/articles/241968\n",
      "processing... rank 9 : https://www.medicinenet.com/leg_pain/symptoms.htm\n",
      "processing... rank 10 : https://www.healthline.com/health/leg-pain\n",
      "processing... rank 11 : https://www.health.harvard.edu/pain/when-walking-makes-your-legs-hurt\n",
      "processing... rank 12 : https://medlineplus.gov/ency/article/003182.htm\n",
      "\n",
      "processing is now complete\n"
     ]
    }
   ],
   "source": [
    "createResources('leg pain', 'Extractions/Leg Pain')"
   ]
  },
  {
   "cell_type": "code",
   "execution_count": null,
   "metadata": {},
   "outputs": [],
   "source": []
  }
 ],
 "metadata": {
  "kernelspec": {
   "display_name": "Python 3",
   "language": "python",
   "name": "python3"
  },
  "language_info": {
   "codemirror_mode": {
    "name": "ipython",
    "version": 3
   },
   "file_extension": ".py",
   "mimetype": "text/x-python",
   "name": "python",
   "nbconvert_exporter": "python",
   "pygments_lexer": "ipython3",
   "version": "3.7.6"
  }
 },
 "nbformat": 4,
 "nbformat_minor": 4
}
