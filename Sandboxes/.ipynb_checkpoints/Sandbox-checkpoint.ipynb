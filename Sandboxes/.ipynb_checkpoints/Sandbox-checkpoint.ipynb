{
 "cells": [
  {
   "cell_type": "code",
   "execution_count": 4,
   "metadata": {},
   "outputs": [],
   "source": [
    "import requests\n",
    "import re\n",
    "import urllib.request\n",
    "import time\n",
    "from bs4 import BeautifulSoup"
   ]
  },
  {
   "cell_type": "code",
   "execution_count": 5,
   "metadata": {},
   "outputs": [],
   "source": [
    "# Step 1 : Get Request to url of data source \n",
    "\n",
    "url = 'https://www.ontario.ca/laws/regulation/120332'\n",
    "response = requests.get(url)"
   ]
  },
  {
   "cell_type": "code",
   "execution_count": 6,
   "metadata": {},
   "outputs": [
    {
     "data": {
      "text/plain": [
       "<Response [200]>"
      ]
     },
     "execution_count": 6,
     "metadata": {},
     "output_type": "execute_result"
    }
   ],
   "source": [
    "# Step 2 : If Response 200, then Get Request was succesful\n",
    "\n",
    "response"
   ]
  },
  {
   "cell_type": "code",
   "execution_count": 7,
   "metadata": {},
   "outputs": [],
   "source": [
    "# Step 3 : Parse the html\n",
    "\n",
    "soup = BeautifulSoup(response.text,'html.parser')"
   ]
  },
  {
   "cell_type": "code",
   "execution_count": 8,
   "metadata": {},
   "outputs": [],
   "source": [
    "# Step 4 : Create List of all `Rule` <p> tags\n",
    "\n",
    "rules = soup.findAll(\"p\", {\"class\":\"ruleb-e\"})"
   ]
  },
  {
   "cell_type": "code",
   "execution_count": 9,
   "metadata": {},
   "outputs": [],
   "source": [
    "# Step 5 : Create List of all `Section` <p> tags\n",
    "\n",
    "sections = soup.findAll(\"p\", {\"class\":\"section-e\"})"
   ]
  },
  {
   "cell_type": "code",
   "execution_count": 10,
   "metadata": {},
   "outputs": [],
   "source": [
    "# Step 6 : Create List of all `Sub-Section` <p> tags\n",
    "\n",
    "sub_sections = soup.findAll(\"p\", {\"class\":\"subsection-e\"})"
   ]
  },
  {
   "cell_type": "code",
   "execution_count": 11,
   "metadata": {},
   "outputs": [],
   "source": [
    "# Step 7 : Create List of all `Clause` <p> tags\n",
    "\n",
    "clauses = soup.findAll(\"p\", {\"class\":\"clause-e\"})"
   ]
  },
  {
   "cell_type": "code",
   "execution_count": 12,
   "metadata": {},
   "outputs": [],
   "source": [
    "# Step 9 : Create List of all `Sub-Clause` <p> tags\n",
    "\n",
    "sub_clauses = soup.findAll(\"p\", {\"class\":\"subclause-e\"})"
   ]
  },
  {
   "cell_type": "code",
   "execution_count": 13,
   "metadata": {},
   "outputs": [],
   "source": [
    "def defineSampleSpace(soup, first_rule):\n",
    "    \n",
    "    # Note : Need to Accomodate end point\n",
    "    \n",
    "    # ---\n",
    "    \n",
    "    # Extract all <p> tags\n",
    "    \n",
    "    original_sample_space = soup.findAll(\"p\")\n",
    "    \n",
    "    # Find index of first `Rule` - 1.1.1\n",
    "    \n",
    "    start = original_sample_space.index(first_rule) - 1\n",
    "    \n",
    "    # Define end as original end of list\n",
    "    \n",
    "    end = len(original_sample_space) - 1\n",
    "    \n",
    "    # Define new Sample Space\n",
    "    \n",
    "    new_sample_space = original_sample_space[start:end]\n",
    "    \n",
    "    # Return new Sample Space\n",
    "    \n",
    "    return new_sample_space\n",
    "    "
   ]
  },
  {
   "cell_type": "code",
   "execution_count": 14,
   "metadata": {},
   "outputs": [
    {
     "data": {
      "text/plain": [
       "[<p class=\"ruleb-e\">Section 1.1.<b> </b>Organization and Application</p>,\n",
       " <p class=\"ruleb-e\">1.1.1.<b> </b>Organization of this Code</p>,\n",
       " <p class=\"section-e\"><b>1.1.1.1. Scope of Division A</b></p>,\n",
       " <p class=\"subsection-e\"><b>  (1) </b>Division A contains compliance and application provisions and the <i>objectives </i>and <i>functional statements</i>\n",
       " of this Code.</p>,\n",
       " <p class=\"section-e\"><b>1.1.1.2. Scope of Division B</b></p>]"
      ]
     },
     "execution_count": 14,
     "metadata": {},
     "output_type": "execute_result"
    }
   ],
   "source": [
    "# Step 10 : Create Sample Space\n",
    "\n",
    "sample_space = defineSampleSpace(soup, rules[1])\n",
    "\n",
    "# Example of first 5 items in Sample Space\n",
    "\n",
    "sample_space[0:5]"
   ]
  },
  {
   "cell_type": "code",
   "execution_count": 19,
   "metadata": {},
   "outputs": [],
   "source": [
    "def formatText(text): \n",
    "    \n",
    "        text = str(text)\n",
    "    \n",
    "        cleaned = re.sub(r\"<b>|</b>\", \"\", text)\n",
    "              \n",
    "        start = cleaned.index(\">\") + 1\n",
    "        cleaned = cleaned[start:]\n",
    "        \n",
    "        end = cleaned.index(\"<\")\n",
    "        cleaned = cleaned[:end]\n",
    "        \n",
    "        \n",
    "        return cleaned"
   ]
  },
  {
   "cell_type": "code",
   "execution_count": 20,
   "metadata": {},
   "outputs": [],
   "source": [
    "def retrieveIndicies(sub_set, sample_space):\n",
    "    indicies = []\n",
    "    \n",
    "    for item in sub_set:\n",
    "        \n",
    "        index = sample_space.index(item)\n",
    "        text = formatText(item)\n",
    "        indicies.append({\"item\": text, \"index\": index})\n",
    "        \n",
    "        \n",
    "    return indicies"
   ]
  },
  {
   "cell_type": "code",
   "execution_count": 21,
   "metadata": {},
   "outputs": [],
   "source": [
    "rules_indicies = retrieveIndicies(rules, sample_space)"
   ]
  },
  {
   "cell_type": "code",
   "execution_count": 18,
   "metadata": {},
   "outputs": [
    {
     "data": {
      "text/plain": [
       "{'item': '1.1.1.', 'index': 1}"
      ]
     },
     "execution_count": 18,
     "metadata": {},
     "output_type": "execute_result"
    }
   ],
   "source": [
    "rules_indicies[1]"
   ]
  },
  {
   "cell_type": "code",
   "execution_count": 18,
   "metadata": {},
   "outputs": [],
   "source": [
    "def partitionSampleSpaceByIndicies(indicies, sample_space):\n",
    "    \n",
    "    partitionIndicies = []\n",
    "    \n",
    "    for item in indicies: \n",
    "        \n",
    "        if indicies.index(item) == len(indicies) - 1:\n",
    "            break\n",
    "            \n",
    "        else:\n",
    "            \n",
    "            # NOTE : OFF BY 1 ERROR ?\n",
    "            \n",
    "            start = item[\"index\"]\n",
    "\n",
    "            next_item = indicies[indicies.index(item) + 1]\n",
    "\n",
    "            end = next_item[\"index\"]\n",
    "\n",
    "            partitionIndicies.append({\"item\": item[\"item\"], \"starting_index\" : start, \"ending_index\": end})\n",
    "\n",
    "        \n",
    "    return partitionIndicies"
   ]
  },
  {
   "cell_type": "code",
   "execution_count": 19,
   "metadata": {},
   "outputs": [],
   "source": [
    "rules_partition = partitionSampleSpaceByIndicies(rules_indicies, sample_space)"
   ]
  },
  {
   "cell_type": "code",
   "execution_count": 22,
   "metadata": {},
   "outputs": [
    {
     "data": {
      "text/plain": [
       "{'item': '1.4.2. Symbols and Other Abbreviations',\n",
       " 'starting_index': 716,\n",
       " 'ending_index': 942}"
      ]
     },
     "execution_count": 22,
     "metadata": {},
     "output_type": "execute_result"
    }
   ],
   "source": [
    "rules_partition[11]"
   ]
  },
  {
   "cell_type": "code",
   "execution_count": 25,
   "metadata": {},
   "outputs": [
    {
     "data": {
      "text/plain": [
       "{'item': '1.1.1. Organization of this Code',\n",
       " 'starting_index': 1,\n",
       " 'ending_index': 10}"
      ]
     },
     "execution_count": 25,
     "metadata": {},
     "output_type": "execute_result"
    }
   ],
   "source": [
    "rules_partition[1]"
   ]
  },
  {
   "cell_type": "code",
   "execution_count": 26,
   "metadata": {},
   "outputs": [
    {
     "data": {
      "text/plain": [
       "<p class=\"section-e\"><b>1.1.1.1. Scope of Division A</b></p>"
      ]
     },
     "execution_count": 26,
     "metadata": {},
     "output_type": "execute_result"
    }
   ],
   "source": [
    "sample_space[2]"
   ]
  },
  {
   "cell_type": "code",
   "execution_count": 27,
   "metadata": {},
   "outputs": [
    {
     "data": {
      "text/plain": [
       "<p class=\"subsection-e\"><b>  (1) </b>Division A contains compliance and application provisions and the <i>objectives </i>and <i>functional statements</i>\n",
       "of this Code.</p>"
      ]
     },
     "execution_count": 27,
     "metadata": {},
     "output_type": "execute_result"
    }
   ],
   "source": [
    "sample_space[3]"
   ]
  },
  {
   "cell_type": "code",
   "execution_count": 29,
   "metadata": {},
   "outputs": [],
   "source": [
    "def partitionRules(rules_partition, sample_space):\n",
    "    \n",
    "    partition = []\n",
    "    \n",
    "    for item in rules_partition:\n",
    "        \n",
    "        start = item[\"starting_index\"]\n",
    "        end = item[\"ending_index\"]\n",
    "        elements = sample_space[start:end]\n",
    "        \n",
    "        rule = { \"rule\" : item[\"item\"], \"elements\": elements }\n",
    "        \n",
    "        partition.append(rule)\n",
    "        \n",
    "        \n",
    "    return partition"
   ]
  },
  {
   "cell_type": "code",
   "execution_count": 31,
   "metadata": {},
   "outputs": [],
   "source": [
    "partition_by_rules = partitionRules(rules_partition, sample_space)"
   ]
  },
  {
   "cell_type": "code",
   "execution_count": 44,
   "metadata": {},
   "outputs": [
    {
     "data": {
      "text/plain": [
       "{'rule': '1.1.1. Organization of this Code',\n",
       " 'elements': [<p class=\"ruleb-e\">1.1.1.<b> </b>Organization of this Code</p>,\n",
       "  <p class=\"section-e\"><b>1.1.1.1. Scope of Division A</b></p>,\n",
       "  <p class=\"subsection-e\"><b>  (1) </b>Division A contains compliance and application provisions and the <i>objectives </i>and <i>functional statements</i>\n",
       "  of this Code.</p>,\n",
       "  <p class=\"section-e\"><b>1.1.1.2. Scope of Division B</b></p>,\n",
       "  <p class=\"subsection-e\"><b>  (1) </b>Division B contains the <i>acceptable solutions</i>\n",
       "  of this Code.</p>,\n",
       "  <p class=\"section-e\"><b>1.1.1.3. Scope of Division C</b></p>,\n",
       "  <p class=\"subsection-e\"><b>  (1) </b>Division C contains the administrative provisions of this Code.</p>,\n",
       "  <p class=\"section-e\"><b>1.1.1.4. Internal Cross-references</b></p>,\n",
       "  <p class=\"subsection-e\"><b>  (1) </b>If a provision of this Code contains a reference to another provision of this Code but no Division is specified, both provisions are in the same Division of this Code.</p>]}"
      ]
     },
     "execution_count": 44,
     "metadata": {},
     "output_type": "execute_result"
    }
   ],
   "source": [
    "partition_by_rules[1]"
   ]
  },
  {
   "cell_type": "code",
   "execution_count": 93,
   "metadata": {},
   "outputs": [],
   "source": [
    "def match(expression, list, type): \n",
    "    \n",
    "    \n",
    "        matches = []\n",
    "    \n",
    "        for item in list:\n",
    "            \n",
    "            text = str(item)\n",
    "            match = re.search(expression, text)\n",
    "            \n",
    "            if match:\n",
    "                \n",
    "                index = list.index(item)\n",
    "                cleaned = formatText(text)\n",
    "                \n",
    "                matches.append({\"type\": type, \"text\": cleaned, \"index\": index})\n",
    "                \n",
    "                \n",
    "        return matches"
   ]
  },
  {
   "cell_type": "code",
   "execution_count": 96,
   "metadata": {},
   "outputs": [
    {
     "data": {
      "text/plain": [
       "{'rule': '1.1.2. Application of Division B',\n",
       " 'elements': [<p class=\"ruleb-e\">1.1.2.<b> </b>Application of Division B</p>,\n",
       "  <p class=\"section-e\"><b>1.1.2.1. Application of Parts 1, 7 and 12</b></p>,\n",
       "  <p class=\"subsection-e\"> <b>(1)</b> Part 1 of Division B applies to all <i>buildings</i>.</p>,\n",
       "  <p class=\"subsection-e\"> <b>(2)</b> Subject to Article 1.1.2.6., Parts 7 and 12 of Division B apply to all buildings.</p>,\n",
       "  <p class=\"section-e\"><b>1.1.2.2. Application of Parts 3, 4, 5 and 6</b></p>,\n",
       "  <p class=\"subsection-e\"> <b>(1) </b>Subject to Articles 1.1.2.6. and 1.3.1.2., Parts 3, 5 and 6 of Division B apply to all <i>buildings</i>,</p>,\n",
       "  <p class=\"clause-e\">  (a)  used for <i>major occupancies</i> classified as,</p>,\n",
       "  <p class=\"subclause-e\">  (i)  Group A, <i>assembly occupancies</i>,</p>,\n",
       "  <p class=\"subclause-e\">  (ii)  Group B, <i>care</i>,<i> care and treatment</i> or<i> detention occupancies</i>, or</p>,\n",
       "  <p class=\"subclause-e\">  (iii)  Group F, Division 1, <i>high hazard industrial occupancies</i>,</p>,\n",
       "  <p class=\"clause-e\">  (b)  exceeding 600 m<sup>2</sup> in <i>building area</i> or exceeding three <i>storeys\n",
       "  </i>in <i>building height</i> and<i> </i>used for <i>major occupancies</i> classified as,</p>,\n",
       "  <p class=\"subclause-e\">  (i)  Group C, <i>residential occupancies</i>,</p>,\n",
       "  <p class=\"subclause-e\">  (ii)  Group D, <i>business and personal services occupancies</i>,</p>,\n",
       "  <p class=\"subclause-e\">  (iii)  Group E, <i>mercantile occupancies</i>,</p>,\n",
       "  <p class=\"subclause-e\">  (iv)  Group F, Divisions 2 and 3, <i>medium hazard industrial occupancies</i> and <i>low hazard industrial occupancies</i>, or</p>,\n",
       "  <p class=\"clause-e\">  (c)  used for <i>retirement homes</i>.</p>,\n",
       "  <p class=\"subsection-e\"><b>  (2) </b>Subject to Articles 1.1.2.6. and 1.3.1.2., Part 4 of Division B applies to,</p>,\n",
       "  <p class=\"clause-e\">  (a)  <i>post-disaster buildings</i>,</p>,\n",
       "  <p class=\"clause-e\">  (b)  <i>buildings</i>\n",
       "  described in Sentence (1),</p>,\n",
       "  <p class=\"clause-e\">  (c)  a retaining wall exceeding 1 000 mm in exposed height adjacent to,</p>,\n",
       "  <p class=\"subclause-e\">  (i)  public property,</p>,\n",
       "  <p class=\"subclause-e\">  (ii)  access to a <i>building</i>, or</p>,\n",
       "  <p class=\"subclause-e\">  (iii)  private property to which the public is admitted,</p>,\n",
       "  <p class=\"clause-e\">  (d)  a pedestrian bridge appurtenant to a <i>building</i>,</p>,\n",
       "  <p class=\"clause-e\">  (e)  a crane runway,</p>,\n",
       "  <p class=\"clause-e\">  (f)  an exterior storage tank and its supporting structure that is not regulated by the<i> Technical Standards and Safety Act, 2000</i>,</p>,\n",
       "  <p class=\"clause-e\">  (g)  signs regulated by Section 3.15. of Division B that are not structurally supported by a <i>building</i>,</p>,\n",
       "  <p class=\"clause-e\">  (h)  a structure that supports a wind turbine generator having a rated output of more than 3 kW,</p>,\n",
       "  <p class=\"clause-e\">  (i)  an <i>outdoor pool</i>\n",
       "  that has a water depth greater than 3.5 m at any point, and</p>,\n",
       "  <p class=\"clause-e\">  (j)  a <i>permanent solid nutrient storage facility</i> with supporting walls exceeding 1 000 mm in exposed height.</p>,\n",
       "  <p class=\"subsection-e\"><b>  (3) </b>Section 3.11. of Division B applies to <i>public pools</i>.</p>,\n",
       "  <p class=\"subsection-e\"><b>  (4) </b>Section 3.12. of Division B applies to <i>public spas</i>.</p>,\n",
       "  <p class=\"subsection-e\"><b>  (5) </b>Section 3.15. of Division B applies to signs.</p>,\n",
       "  <p class=\"section-e\"><b>1.1.2.3. Application of Part 8</b></p>,\n",
       "  <p class=\"subsection-e\"> <b>(1) </b>Subject to Article 1.1.2.6., Part 8 of Division B applies to the design, <i>construction</i>, operation and maintenance of all <i>sewage systems</i> and to the <i>construction</i>\n",
       "  of <i>buildings</i> in the vicinity of <i>sewage systems</i>.</p>,\n",
       "  <p class=\"section-e\"><b>1.1.2.4. Application of Part 9</b></p>,\n",
       "  <p class=\"subsection-e\"> <b>(1) </b>Subject to Article 1.1.2.6 Part 9 of Division B applies to all <i>buildings</i>,</p>,\n",
       "  <p class=\"clause-e\">  (a)  of three or fewer <i>storeys</i> in <i>building height</i>,</p>,\n",
       "  <p class=\"clause-e\">  (b)  having a <i>building area </i>not exceeding 600 m<sup>2</sup>, and</p>,\n",
       "  <p class=\"clause-e\">  (c)  used for <i>major occupancies</i> classified as,</p>,\n",
       "  <p class=\"subclause-e\">  (i)  Group C, <i>residential occupancies </i>other than <i>buildings</i>\n",
       "  used for <i>retirement homes</i>,</p>,\n",
       "  <p class=\"subclause-e\">  (ii)  Group D, <i>business and personal services occupancies</i>,</p>,\n",
       "  <p class=\"subclause-e\">  (iii)  Group E, <i>mercantile occupancies</i>, or</p>,\n",
       "  <p class=\"subclause-e\">  (iv)  Group F, Divisions 2 and 3, <i>medium hazard industrial occupancies</i> and <i>low hazard industrial occupancies</i>.</p>,\n",
       "  <p class=\"section-e\"><b>1.1.2.5. Application of Part 10</b></p>,\n",
       "  <p class=\"subsection-e\"><b>  (1) </b>Part 10 of Division B applies to existing <i>buildings</i>\n",
       "  requiring a permit under section 10 of the Act.</p>,\n",
       "  <p class=\"section-e\"><b>1.1.2.6. Application of Part 11</b></p>,\n",
       "  <p class=\"subsection-e\"><b>  (1) </b>Except as provided in Sentence (2), Part 11 of Division B applies to the design and <i>construction</i> of existing <i>buildings</i>, or parts of existing <i>buildings</i>, that have been in existence for at least five years.</p>,\n",
       "  <p class=\"subsection-e\"><b>  (2) </b>If a <i>building </i>has been in existence for at least five years but includes an addition that has been in existence for less than five years, Part 11 of Division B applies to the entire <i>building</i>.</p>,\n",
       "  <p class=\"section-e\"><b>1.1.2.7. Existing Buildings</b></p>,\n",
       "  <p class=\"subsection-e\"><b>  (1) </b>Except as provided in Section 3.17. of Division B, Section 9.40. of Division B and Part 11 of Division B, if an existing <i>building</i>\n",
       "  is extended or is subject to material alteration or repair, this Code applies only to the design and <i>construction</i> of the extensions and those parts of the <i>building</i> that are subject to the material alteration or repair.</p>,\n",
       "  <p class=\"subsection-e\"><b>  (2) </b>If an existing previously occupied <i>building</i>\n",
       "  is moved from its original location to be installed elsewhere, or is dismantled at its original location and moved to be reconstituted elsewhere, this Code applies only to changes to the design and <i>construction</i>\n",
       "  of the <i>building</i> required as a result of moving the <i>building</i>.</p>]}"
      ]
     },
     "execution_count": 96,
     "metadata": {},
     "output_type": "execute_result"
    }
   ],
   "source": [
    "partition_by_rules[2]"
   ]
  },
  {
   "cell_type": "code",
   "execution_count": 99,
   "metadata": {},
   "outputs": [
    {
     "data": {
      "text/plain": [
       "[{'type': 'Section',\n",
       "  'text': '1.1.2.1. Application of Parts 1, 7 and 12',\n",
       "  'index': 1},\n",
       " {'type': 'Section',\n",
       "  'text': '1.1.2.2. Application of Parts 3, 4, 5 and 6',\n",
       "  'index': 4},\n",
       " {'type': 'Section', 'text': '1.1.2.3. Application of Part 8', 'index': 33},\n",
       " {'type': 'Section', 'text': '1.1.2.4. Application of Part 9', 'index': 35},\n",
       " {'type': 'Section', 'text': '1.1.2.5. Application of Part 10', 'index': 44},\n",
       " {'type': 'Section', 'text': '1.1.2.6. Application of Part 11', 'index': 46},\n",
       " {'type': 'Section', 'text': '1.1.2.7. Existing Buildings', 'index': 49}]"
      ]
     },
     "execution_count": 99,
     "metadata": {},
     "output_type": "execute_result"
    }
   ],
   "source": [
    "match('\"section-e\"', partition_by_rules[2][\"elements\"], \"Section\")"
   ]
  },
  {
   "cell_type": "code",
   "execution_count": 100,
   "metadata": {},
   "outputs": [
    {
     "data": {
      "text/plain": [
       "[{'type': 'Sub Section',\n",
       "  'text': ' (1) Part 1 of Division B applies to all ',\n",
       "  'index': 2},\n",
       " {'type': 'Sub Section',\n",
       "  'text': ' (2) Subject to Article 1.1.2.6., Parts 7 and 12 of Division B apply to all buildings.',\n",
       "  'index': 3},\n",
       " {'type': 'Sub Section',\n",
       "  'text': ' (1) Subject to Articles 1.1.2.6. and 1.3.1.2., Parts 3, 5 and 6 of Division B apply to all ',\n",
       "  'index': 5},\n",
       " {'type': 'Sub Section',\n",
       "  'text': '  (2) Subject to Articles 1.1.2.6. and 1.3.1.2., Part 4 of Division B applies to,',\n",
       "  'index': 16},\n",
       " {'type': 'Sub Section',\n",
       "  'text': '  (3) Section 3.11. of Division B applies to ',\n",
       "  'index': 30},\n",
       " {'type': 'Sub Section',\n",
       "  'text': '  (4) Section 3.12. of Division B applies to ',\n",
       "  'index': 31},\n",
       " {'type': 'Sub Section',\n",
       "  'text': '  (5) Section 3.15. of Division B applies to signs.',\n",
       "  'index': 32},\n",
       " {'type': 'Sub Section',\n",
       "  'text': ' (1) Subject to Article 1.1.2.6., Part 8 of Division B applies to the design, ',\n",
       "  'index': 34},\n",
       " {'type': 'Sub Section',\n",
       "  'text': ' (1) Subject to Article 1.1.2.6 Part 9 of Division B applies to all ',\n",
       "  'index': 36},\n",
       " {'type': 'Sub Section',\n",
       "  'text': '  (1) Part 10 of Division B applies to existing ',\n",
       "  'index': 45},\n",
       " {'type': 'Sub Section',\n",
       "  'text': '  (1) Except as provided in Sentence (2), Part 11 of Division B applies to the design and ',\n",
       "  'index': 47},\n",
       " {'type': 'Sub Section', 'text': '  (2) If a ', 'index': 48},\n",
       " {'type': 'Sub Section',\n",
       "  'text': '  (1) Except as provided in Section 3.17. of Division B, Section 9.40. of Division B and Part 11 of Division B, if an existing ',\n",
       "  'index': 50},\n",
       " {'type': 'Sub Section',\n",
       "  'text': '  (2) If an existing previously occupied ',\n",
       "  'index': 51}]"
      ]
     },
     "execution_count": 100,
     "metadata": {},
     "output_type": "execute_result"
    }
   ],
   "source": [
    "match('\"subsection-e\"', partition_by_rules[2][\"elements\"], \"Sub Section\")"
   ]
  },
  {
   "cell_type": "code",
   "execution_count": null,
   "metadata": {},
   "outputs": [],
   "source": []
  }
 ],
 "metadata": {
  "kernelspec": {
   "display_name": "Python 3",
   "language": "python",
   "name": "python3"
  },
  "language_info": {
   "codemirror_mode": {
    "name": "ipython",
    "version": 3
   },
   "file_extension": ".py",
   "mimetype": "text/x-python",
   "name": "python",
   "nbconvert_exporter": "python",
   "pygments_lexer": "ipython3",
   "version": "3.7.6"
  }
 },
 "nbformat": 4,
 "nbformat_minor": 4
}
