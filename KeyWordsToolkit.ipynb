{
 "cells": [
  {
   "cell_type": "code",
   "execution_count": 60,
   "metadata": {},
   "outputs": [],
   "source": [
    "import json\n",
    "import nltk"
   ]
  },
  {
   "cell_type": "code",
   "execution_count": 103,
   "metadata": {},
   "outputs": [],
   "source": [
    "from nltk.corpus import stopwords\n",
    "from nltk.tokenize import word_tokenize"
   ]
  },
  {
   "cell_type": "code",
   "execution_count": 99,
   "metadata": {},
   "outputs": [],
   "source": [
    "# Default list of stopwords from NLTK Library\n",
    "all_stop_words = set(stopwords.words('english'))"
   ]
  },
  {
   "cell_type": "code",
   "execution_count": 90,
   "metadata": {},
   "outputs": [],
   "source": [
    "def addStopwords(stop_words, words):    \n",
    "    for word in words:\n",
    "        stop_words.add(word)\n",
    "    return stop_words    "
   ]
  },
  {
   "cell_type": "code",
   "execution_count": 91,
   "metadata": {},
   "outputs": [],
   "source": [
    "def removeStopwords(stop_words, words):    \n",
    "    for word in words:\n",
    "        if word in stop_words:\n",
    "            stop_words.remove(word)\n",
    "            print(word + \" removed\")\n",
    "        else:\n",
    "            print(word + \" not in set\")\n",
    "    return stop_words    "
   ]
  },
  {
   "cell_type": "code",
   "execution_count": 100,
   "metadata": {},
   "outputs": [
    {
     "name": "stdout",
     "output_type": "stream",
     "text": [
      "do removed\n",
      "not removed\n"
     ]
    }
   ],
   "source": [
    "stop_words = removeStopwords(all_stop_words, [\"do\", \"not\"])"
   ]
  },
  {
   "cell_type": "code",
   "execution_count": 57,
   "metadata": {},
   "outputs": [],
   "source": [
    "def filterStopwords(text, stop_words):\n",
    "    \n",
    "    if (text is None) : return 'Null'\n",
    "    \n",
    "    tokenizer = nltk.RegexpTokenizer(r\"\\w+\")\n",
    "    words = tokenizer.tokenize(text)\n",
    "\n",
    "    filtered_words = []\n",
    "    \n",
    "    for word in words:\n",
    "                \n",
    "        if (word == None): continue \n",
    "        \n",
    "        elif (word.lower() not in stop_words):\n",
    "            filtered_words.append(word)\n",
    "            \n",
    "    return filtered_words"
   ]
  },
  {
   "cell_type": "code",
   "execution_count": 101,
   "metadata": {},
   "outputs": [],
   "source": [
    "txt = \" (b) the wires and cables in the raceways do not meet or exceed the requirements of Clause 3.1.5.18.(1)(a), the nonmetallic raceways exhibit a vertical char not more than 1.5 m when tested in conformance with the Vertical Flame Test (FT4) – Conduit or Tubing on Cable Tray in Clause 6.16 of CSA C22.2 No. 211.0, “General Requirements and Methods of Testing for Nonmetallic Conduit”.\""
   ]
  },
  {
   "cell_type": "code",
   "execution_count": 102,
   "metadata": {},
   "outputs": [
    {
     "data": {
      "text/plain": [
       "['b',\n",
       " 'wires',\n",
       " 'cables',\n",
       " 'raceways',\n",
       " 'do',\n",
       " 'not',\n",
       " 'meet',\n",
       " 'exceed',\n",
       " 'requirements',\n",
       " 'Clause',\n",
       " '3',\n",
       " '1',\n",
       " '5',\n",
       " '18',\n",
       " '1',\n",
       " 'nonmetallic',\n",
       " 'raceways',\n",
       " 'exhibit',\n",
       " 'vertical',\n",
       " 'char',\n",
       " 'not',\n",
       " '1',\n",
       " '5',\n",
       " 'tested',\n",
       " 'conformance',\n",
       " 'Vertical',\n",
       " 'Flame',\n",
       " 'Test',\n",
       " 'FT4',\n",
       " 'Conduit',\n",
       " 'Tubing',\n",
       " 'Cable',\n",
       " 'Tray',\n",
       " 'Clause',\n",
       " '6',\n",
       " '16',\n",
       " 'CSA',\n",
       " 'C22',\n",
       " '2',\n",
       " '211',\n",
       " '0',\n",
       " 'General',\n",
       " 'Requirements',\n",
       " 'Methods',\n",
       " 'Testing',\n",
       " 'Nonmetallic',\n",
       " 'Conduit']"
      ]
     },
     "execution_count": 102,
     "metadata": {},
     "output_type": "execute_result"
    }
   ],
   "source": [
    "filterStopwords(txt, stop_words)"
   ]
  },
  {
   "cell_type": "code",
   "execution_count": 9,
   "metadata": {},
   "outputs": [],
   "source": [
    "def removeDuplicates(text) :\n",
    "    \n",
    "    dictionary = {}\n",
    "    duplicates_removed = []\n",
    "    \n",
    "    for word in text:\n",
    "        \n",
    "        if (word in dictionary):\n",
    "            continue\n",
    "        else:\n",
    "            dictionary[word] = text.index(word)\n",
    "            duplicates_removed.append(word)\n",
    "            \n",
    "    return (dictionary, duplicates_removed)"
   ]
  },
  {
   "cell_type": "code",
   "execution_count": null,
   "metadata": {},
   "outputs": [],
   "source": []
  }
 ],
 "metadata": {
  "kernelspec": {
   "display_name": "Python 3",
   "language": "python",
   "name": "python3"
  },
  "language_info": {
   "codemirror_mode": {
    "name": "ipython",
    "version": 3
   },
   "file_extension": ".py",
   "mimetype": "text/x-python",
   "name": "python",
   "nbconvert_exporter": "python",
   "pygments_lexer": "ipython3",
   "version": "3.7.6"
  }
 },
 "nbformat": 4,
 "nbformat_minor": 4
}
