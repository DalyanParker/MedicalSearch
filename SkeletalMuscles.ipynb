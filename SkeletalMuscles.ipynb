{
 "cells": [
  {
   "cell_type": "code",
   "execution_count": 1,
   "metadata": {},
   "outputs": [],
   "source": [
    "import requests\n",
    "from bs4 import BeautifulSoup as soup\n",
    "import re\n",
    "import urllib.parse\n",
    "from urllib.request import Request, urlopen\n",
    "from urllib.parse import urlparse\n",
    "import random\n",
    "import json"
   ]
  },
  {
   "cell_type": "code",
   "execution_count": 2,
   "metadata": {},
   "outputs": [],
   "source": [
    "def randomAgent():\n",
    "    \n",
    "    randomAgents = [\n",
    "        'Mozilla/5.0 (Macintosh; U; Intel Mac OS X 10.5; en-US; rv:1.9.1b3) Gecko/20090305 Firefox/3.1b3 GTB5',\n",
    "        'Mozilla/5.0 (Macintosh; U; Intel Mac OS X 10.5; ko; rv:1.9.1b2) Gecko/20081201 Firefox/3.1b2'        ,\n",
    "        'Mozilla/5.0 (X11; U; SunOS sun4u; en-US; rv:1.9b5) Gecko/2008032620 Firefox/3.0b5',\n",
    "        'Mozilla/5.0 (Windows NT 6.1; WOW64; rv:2.0b8pre) Gecko/20101114 Firefox/4.0b8pre',\n",
    "        'Mozilla/5.0 (X11; Linux x86_64; rv:2.0b9pre) Gecko/20110111 Firefox/4.0b9pre'\n",
    "        'Mozilla/5.0 (Windows NT 6.1; Win64; x64; rv:2.0b9pre) Gecko/20101228 Firefox/4.0b9pre'\n",
    "        'Mozilla/5.0 (Windows NT 6.1; Win64; x64; rv:2.2a1pre) Gecko/20110324 Firefox/4.2a1pre'\n",
    "        'Mozilla/5.0 (X11; U; Linux amd64; rv:5.0) Gecko/20100101 Firefox/5.0 (Debian)'\n",
    "        'Mozilla/5.0 (Windows NT 6.1; WOW64; rv:6.0a2) Gecko/20110613 Firefox/6.0a2'\n",
    "        'Mozilla/5.0 (X11; Linux i686 on x86_64; rv:12.0) Gecko/20100101 Firefox/12.0'\n",
    "                   ]\n",
    "    \n",
    "    return random.choice(randomAgents)"
   ]
  },
  {
   "cell_type": "code",
   "execution_count": 3,
   "metadata": {},
   "outputs": [],
   "source": [
    "def scrape(url):\n",
    "        \n",
    "        req = Request(url, headers={'User-Agent' : randomAgent()})\n",
    "        \n",
    "        webpage = urlopen(req).read()\n",
    "        return webpage"
   ]
  },
  {
   "cell_type": "code",
   "execution_count": 4,
   "metadata": {},
   "outputs": [],
   "source": [
    "wiki_skeletal_muscles = 'https://en.wikipedia.org/wiki/List_of_skeletal_muscles_of_the_human_body'"
   ]
  },
  {
   "cell_type": "code",
   "execution_count": 5,
   "metadata": {},
   "outputs": [],
   "source": [
    "page = scrape(wiki_skeletal_muscles)"
   ]
  },
  {
   "cell_type": "code",
   "execution_count": 6,
   "metadata": {},
   "outputs": [],
   "source": [
    "def scrapeByTag(webpage, tag):\n",
    "    \n",
    "        page_soup = soup(webpage,'html.parser')\n",
    "        taglist = page_soup.findAll(tag)\n",
    "        \n",
    "        return taglist"
   ]
  },
  {
   "cell_type": "code",
   "execution_count": 7,
   "metadata": {},
   "outputs": [],
   "source": [
    "def scrapeByClassName(webpage, tag, classname):\n",
    "\n",
    "        page_soup = soup(webpage,'html.parser')\n",
    "        classlist = page_soup.findAll(tag, class_=classname)\n",
    "        \n",
    "        return classlist"
   ]
  },
  {
   "cell_type": "code",
   "execution_count": 8,
   "metadata": {},
   "outputs": [],
   "source": [
    "def formatText(text, i): \n",
    "    \n",
    "        text = str(text)\n",
    "    \n",
    "        cleaned = re.sub(r\"<{}>|<{}>\", \"\", text).format(i)\n",
    "        \n",
    "        return cleaned"
   ]
  },
  {
   "cell_type": "code",
   "execution_count": 9,
   "metadata": {},
   "outputs": [],
   "source": [
    "def toJSON(title, obj, location):\n",
    "    with open(location + '/' + title + '.json', 'w', encoding='utf-8') as f:\n",
    "        json.dump(obj, f, ensure_ascii=False, indent=4)\n",
    "    return"
   ]
  },
  {
   "cell_type": "code",
   "execution_count": 10,
   "metadata": {},
   "outputs": [],
   "source": [
    "tables = scrapeByClassName(page, 'table', 'wikitable')"
   ]
  },
  {
   "cell_type": "code",
   "execution_count": 11,
   "metadata": {},
   "outputs": [],
   "source": [
    "def getHeaders(head):\n",
    "    \n",
    "    headings = []\n",
    "    for item in head.find_all(\"th\"):\n",
    "        item = (item.text).rstrip(\"\\n\")\n",
    "        headings.append(item)\n",
    "        \n",
    "    return headings"
   ]
  },
  {
   "cell_type": "code",
   "execution_count": 12,
   "metadata": {},
   "outputs": [],
   "source": [
    "def getRows(rows):\n",
    "    \n",
    "    all_rows = [] \n",
    "    \n",
    "    for row_num in range(len(rows)):\n",
    "        row = []\n",
    "        for row_item in rows[row_num].find_all(\"td\"):\n",
    "            aa = re.sub(\"(\\xa0)|(\\n)|,\",\"\",row_item.text)\n",
    "            row.append(aa)\n",
    "        all_rows.append(row)\n",
    "        \n",
    "    return all_rows"
   ]
  },
  {
   "cell_type": "code",
   "execution_count": 13,
   "metadata": {},
   "outputs": [],
   "source": [
    "def createObjects(headers, rows):\n",
    "    \n",
    "    objects = []\n",
    "    \n",
    "    for row in rows:\n",
    "        \n",
    "        if len(row) == len(headers):\n",
    "            \n",
    "            obj = {}\n",
    "        \n",
    "            for i in range(len(headers)):\n",
    "\n",
    "                title = headers[i]\n",
    "                data = row[i]\n",
    "\n",
    "                obj[title] = data\n",
    "            \n",
    "            objects.append(obj)\n",
    "            \n",
    "        else:\n",
    "            continue\n",
    "            \n",
    "    return objects"
   ]
  },
  {
   "cell_type": "code",
   "execution_count": 14,
   "metadata": {},
   "outputs": [],
   "source": [
    "def extractMusclesData(page):\n",
    "    \n",
    "    muscles = []\n",
    "    \n",
    "    tables = scrapeByClassName(page, 'table', 'wikitable')\n",
    "    \n",
    "    for table in tables:\n",
    "        \n",
    "        body = table.find_all(\"tr\")\n",
    "        muscles += createObjects(getHeaders(body[0]), getRows(body[1:]))\n",
    "        \n",
    "    return muscles"
   ]
  },
  {
   "cell_type": "code",
   "execution_count": 17,
   "metadata": {},
   "outputs": [],
   "source": [
    "toJSON('skeletalMuscles', extractMusclesData(page), 'Muscles')"
   ]
  },
  {
   "cell_type": "code",
   "execution_count": null,
   "metadata": {},
   "outputs": [],
   "source": []
  }
 ],
 "metadata": {
  "kernelspec": {
   "display_name": "Python 3",
   "language": "python",
   "name": "python3"
  },
  "language_info": {
   "codemirror_mode": {
    "name": "ipython",
    "version": 3
   },
   "file_extension": ".py",
   "mimetype": "text/x-python",
   "name": "python",
   "nbconvert_exporter": "python",
   "pygments_lexer": "ipython3",
   "version": "3.7.6"
  }
 },
 "nbformat": 4,
 "nbformat_minor": 4
}
