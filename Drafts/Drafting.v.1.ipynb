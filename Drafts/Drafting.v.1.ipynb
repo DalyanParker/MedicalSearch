{
 "cells": [
  {
   "cell_type": "code",
   "execution_count": 1,
   "metadata": {},
   "outputs": [],
   "source": [
    "import requests\n",
    "import urllib\n",
    "import time\n",
    "import copy\n",
    "import re\n",
    "from bs4 import BeautifulSoup"
   ]
  },
  {
   "cell_type": "code",
   "execution_count": 2,
   "metadata": {},
   "outputs": [
    {
     "name": "stdout",
     "output_type": "stream",
     "text": [
      "<Response [200]>\n"
     ]
    }
   ],
   "source": [
    "#1 Part\n",
    "#1.1 Section\n",
    "#1.1.1 Subsection\n",
    "#1.1.1.1. Article\n",
    "#\t(1) Sentence\n",
    "#\t\t(a) Clause\n",
    "#\t\t\t(i) Subclause\n",
    "\n",
    "\n",
    "#Actual dictionary structure looks like this:\n",
    "#ArtX\n",
    "    #ArticleX\n",
    "    #SentenceX\n",
    "        #ClauseX\n",
    "            #SubclauseX\n",
    "\n",
    "url = 'https://www.ontario.ca/laws/regulation/120332'\n",
    "response = requests.get(url)\n",
    "print(response)\n",
    "soup = BeautifulSoup(response.text, \"html.parser\")"
   ]
  },
  {
   "cell_type": "code",
   "execution_count": 3,
   "metadata": {},
   "outputs": [],
   "source": [
    "#Make list of all the results for 'p' tags\n",
    "#notice limit is just so we have a smaller list to test with\n",
    "pTags = soup.find_all('p', class_ = ['section-e', 'subsection-e', 'clause-e', 'subclause-e'], limit = 30)"
   ]
  },
  {
   "cell_type": "code",
   "execution_count": 4,
   "metadata": {},
   "outputs": [],
   "source": [
    "#create dictionary to contain dictionaries\n",
    "p: dict = {}\n",
    "\n",
    "#index for articles (for now), needs different regex expression than sentences, etc.\n",
    "article = -1"
   ]
  },
  {
   "cell_type": "code",
   "execution_count": 118,
   "metadata": {},
   "outputs": [],
   "source": [
    "def formatText(text): \n",
    "    \n",
    "        text = str(text)\n",
    "    \n",
    "        cleaned = re.sub(r\"<b>|</b>\", \"\", text)\n",
    "        cleaned = re.sub(r\"<i>|</i>\", \"\", cleaned)\n",
    "        \n",
    "        if (\">\" in cleaned):\n",
    "              \n",
    "            start = cleaned.index(\">\") + 1\n",
    "            cleaned = cleaned[start:]\n",
    "            \n",
    "        if (\"<\" in cleaned):\n",
    "        \n",
    "            end = cleaned.index(\"<\")\n",
    "            cleaned = cleaned[:end]\n",
    "        \n",
    "\n",
    "        return cleaned"
   ]
  },
  {
   "cell_type": "code",
   "execution_count": 119,
   "metadata": {},
   "outputs": [],
   "source": [
    "def cleanText(list): \n",
    "    \n",
    "    cleaned = []\n",
    "    \n",
    "    for i in list:\n",
    "        clean_text = formatText(i)\n",
    "        cleaned.append(clean_text)\n",
    "        \n",
    "    return cleaned"
   ]
  },
  {
   "cell_type": "code",
   "execution_count": 120,
   "metadata": {},
   "outputs": [
    {
     "data": {
      "text/plain": [
       "['1.1.1.1. Scope of Division A',\n",
       " '  (1) Division A contains compliance and application provisions and the objectives and functional statements\\r\\nof this Code.',\n",
       " '1.1.1.2. Scope of Division B',\n",
       " '  (1) Division B contains the acceptable solutions\\r\\nof this Code.',\n",
       " '1.1.1.3. Scope of Division C',\n",
       " '  (1) Division C contains the administrative provisions of this Code.',\n",
       " '1.1.1.4. Internal Cross-references',\n",
       " '  (1) If a provision of this Code contains a reference to another provision of this Code but no Division is specified, both provisions are in the same Division of this Code.',\n",
       " '1.1.2.1. Application of Parts 1, 7 and 12',\n",
       " ' (1) Part 1 of Division B applies to all buildings.',\n",
       " ' (2) Subject to Article 1.1.2.6., Parts 7 and 12 of Division B apply to all buildings.',\n",
       " '1.1.2.2. Application of Parts 3, 4, 5 and 6',\n",
       " ' (1) Subject to Articles 1.1.2.6. and 1.3.1.2., Parts 3, 5 and 6 of Division B apply to all buildings,',\n",
       " '  (a) used for major occupancies classified as,',\n",
       " '  (i) Group A, assembly occupancies,',\n",
       " '  (ii) Group B, care, care and treatment or detention occupancies, or',\n",
       " '  (iii) Group F, Division 1, high hazard industrial occupancies,',\n",
       " '  (b) exceeding 600 m',\n",
       " '  (i) Group C, residential occupancies,',\n",
       " '  (ii) Group D, business and personal services occupancies,',\n",
       " '  (iii) Group E, mercantile occupancies,',\n",
       " '  (iv) Group F, Divisions 2 and 3, medium hazard industrial occupancies and low hazard industrial occupancies, or',\n",
       " '  (c) used for retirement homes.',\n",
       " '  (2) Subject to Articles 1.1.2.6. and 1.3.1.2., Part 4 of Division B applies to,',\n",
       " '  (a)  post-disaster buildings,',\n",
       " '  (b)  buildings\\r\\ndescribed in Sentence (1),',\n",
       " '  (c) a retaining wall exceeding 1 000 mm in exposed height adjacent to,',\n",
       " '  (i) public property,',\n",
       " '  (ii) access to a building, or',\n",
       " '  (iii) private property to which the public is admitted,']"
      ]
     },
     "execution_count": 120,
     "metadata": {},
     "output_type": "execute_result"
    }
   ],
   "source": [
    "cleanText(pTags)"
   ]
  },
  {
   "cell_type": "code",
   "execution_count": 121,
   "metadata": {},
   "outputs": [],
   "source": [
    "def breakPoints(list):\n",
    "    \n",
    "    points = []\n",
    "    previous_index = 0\n",
    "    \n",
    "    for i in list:\n",
    "        \n",
    "        if i.attrs['class'] == ['section-e']:\n",
    "            \n",
    "            title = formatText(i)\n",
    "            index = list.index(i)\n",
    "            \n",
    "            \n",
    "            points.append({\"title\": title, \"starting index\": index})\n",
    "            \n",
    "            \n",
    "    for i in points:\n",
    "        \n",
    "        index = points.index(i)\n",
    "        \n",
    "        if (index == len(points) - 1):\n",
    "            \n",
    "            i[\"ending index\"] = index\n",
    "            break\n",
    "            \n",
    "        else:\n",
    "        \n",
    "            i[\"ending index\"] = points[index + 1][\"starting index\"]\n",
    "        \n",
    "        \n",
    "    return points"
   ]
  },
  {
   "cell_type": "code",
   "execution_count": 122,
   "metadata": {},
   "outputs": [],
   "source": [
    "section_break_points = breakPoints(pTags)"
   ]
  },
  {
   "cell_type": "code",
   "execution_count": 123,
   "metadata": {},
   "outputs": [
    {
     "data": {
      "text/plain": [
       "[{'title': '1.1.1.1. Scope of Division A',\n",
       "  'starting index': 0,\n",
       "  'ending index': 2},\n",
       " {'title': '1.1.1.2. Scope of Division B',\n",
       "  'starting index': 2,\n",
       "  'ending index': 4},\n",
       " {'title': '1.1.1.3. Scope of Division C',\n",
       "  'starting index': 4,\n",
       "  'ending index': 6},\n",
       " {'title': '1.1.1.4. Internal Cross-references',\n",
       "  'starting index': 6,\n",
       "  'ending index': 8},\n",
       " {'title': '1.1.2.1. Application of Parts 1, 7 and 12',\n",
       "  'starting index': 8,\n",
       "  'ending index': 11},\n",
       " {'title': '1.1.2.2. Application of Parts 3, 4, 5 and 6',\n",
       "  'starting index': 11,\n",
       "  'ending index': 5}]"
      ]
     },
     "execution_count": 123,
     "metadata": {},
     "output_type": "execute_result"
    }
   ],
   "source": [
    "section_break_points"
   ]
  },
  {
   "cell_type": "code",
   "execution_count": 124,
   "metadata": {},
   "outputs": [],
   "source": [
    "def organize(list):\n",
    "    \n",
    "    sections = []\n",
    "    \n",
    "    for i in list:\n",
    "        \n",
    "        title = i[\"title\"]\n",
    "        start = i[\"starting index\"] + 1\n",
    "        end = i[\"ending index\"]\n",
    "        items = pTags[start:end]\n",
    "        \n",
    "        obj = {\"title\": title, \"items\": items}\n",
    "        \n",
    "        sections.append(obj)\n",
    "        \n",
    "    return sections    "
   ]
  },
  {
   "cell_type": "code",
   "execution_count": 129,
   "metadata": {},
   "outputs": [],
   "source": [
    "sections = organize(section_break_points)"
   ]
  },
  {
   "cell_type": "code",
   "execution_count": 133,
   "metadata": {},
   "outputs": [],
   "source": [
    "def sortStuff(list):\n",
    "    \n",
    "    for i in list:\n",
    "        \n",
    "        title = i[\"title\"]\n",
    "        items = i[\"items\"]\n",
    "        \n",
    "        cleaned = []\n",
    "        \n",
    "        for x in items:\n",
    "            \n",
    "            organ(x)"
   ]
  },
  {
   "cell_type": "code",
   "execution_count": 134,
   "metadata": {},
   "outputs": [
    {
     "ename": "KeyError",
     "evalue": "'class'",
     "output_type": "error",
     "traceback": [
      "\u001b[0;31m---------------------------------------------------------------------------\u001b[0m",
      "\u001b[0;31mKeyError\u001b[0m                                  Traceback (most recent call last)",
      "\u001b[0;32m<ipython-input-134-e6da08fa399f>\u001b[0m in \u001b[0;36m<module>\u001b[0;34m\u001b[0m\n\u001b[0;32m----> 1\u001b[0;31m \u001b[0msortStuff\u001b[0m\u001b[0;34m(\u001b[0m\u001b[0msections\u001b[0m\u001b[0;34m)\u001b[0m\u001b[0;34m\u001b[0m\u001b[0;34m\u001b[0m\u001b[0m\n\u001b[0m",
      "\u001b[0;32m<ipython-input-133-5665c76aeebc>\u001b[0m in \u001b[0;36msortStuff\u001b[0;34m(list)\u001b[0m\n\u001b[1;32m     10\u001b[0m         \u001b[0;32mfor\u001b[0m \u001b[0mx\u001b[0m \u001b[0;32min\u001b[0m \u001b[0mitems\u001b[0m\u001b[0;34m:\u001b[0m\u001b[0;34m\u001b[0m\u001b[0;34m\u001b[0m\u001b[0m\n\u001b[1;32m     11\u001b[0m \u001b[0;34m\u001b[0m\u001b[0m\n\u001b[0;32m---> 12\u001b[0;31m             \u001b[0morgan\u001b[0m\u001b[0;34m(\u001b[0m\u001b[0mx\u001b[0m\u001b[0;34m)\u001b[0m\u001b[0;34m\u001b[0m\u001b[0;34m\u001b[0m\u001b[0m\n\u001b[0m",
      "\u001b[0;32m<ipython-input-132-eac69cbbbf53>\u001b[0m in \u001b[0;36morgan\u001b[0;34m(list)\u001b[0m\n\u001b[1;32m      3\u001b[0m     \u001b[0;32mfor\u001b[0m \u001b[0mi\u001b[0m \u001b[0;32min\u001b[0m \u001b[0mlist\u001b[0m\u001b[0;34m:\u001b[0m\u001b[0;34m\u001b[0m\u001b[0;34m\u001b[0m\u001b[0m\n\u001b[1;32m      4\u001b[0m \u001b[0;34m\u001b[0m\u001b[0m\n\u001b[0;32m----> 5\u001b[0;31m         \u001b[0;32mif\u001b[0m \u001b[0mi\u001b[0m\u001b[0;34m.\u001b[0m\u001b[0mattrs\u001b[0m\u001b[0;34m[\u001b[0m\u001b[0;34m'class'\u001b[0m\u001b[0;34m]\u001b[0m \u001b[0;34m==\u001b[0m \u001b[0;34m[\u001b[0m\u001b[0;34m'subsection-e'\u001b[0m\u001b[0;34m]\u001b[0m\u001b[0;34m:\u001b[0m\u001b[0;34m\u001b[0m\u001b[0;34m\u001b[0m\u001b[0m\n\u001b[0m\u001b[1;32m      6\u001b[0m \u001b[0;34m\u001b[0m\u001b[0m\n\u001b[1;32m      7\u001b[0m             \u001b[0;31m#get real sentence name\u001b[0m\u001b[0;34m\u001b[0m\u001b[0;34m\u001b[0m\u001b[0;34m\u001b[0m\u001b[0m\n",
      "\u001b[0;31mKeyError\u001b[0m: 'class'"
     ]
    }
   ],
   "source": [
    "sortStuff(sections)"
   ]
  },
  {
   "cell_type": "code",
   "execution_count": 130,
   "metadata": {},
   "outputs": [
    {
     "data": {
      "text/plain": [
       "[{'title': '1.1.1.1. Scope of Division A',\n",
       "  'items': [<p class=\"subsection-e\"><b>  (1) </b>Division A contains compliance and application provisions and the <i>objectives </i>and <i>functional statements</i>\n",
       "   of this Code.</p>]},\n",
       " {'title': '1.1.1.2. Scope of Division B',\n",
       "  'items': [<p class=\"subsection-e\"><b>  (1) </b>Division B contains the <i>acceptable solutions</i>\n",
       "   of this Code.</p>]},\n",
       " {'title': '1.1.1.3. Scope of Division C',\n",
       "  'items': [<p class=\"subsection-e\"><b>  (1) </b>Division C contains the administrative provisions of this Code.</p>]},\n",
       " {'title': '1.1.1.4. Internal Cross-references',\n",
       "  'items': [<p class=\"subsection-e\"><b>  (1) </b>If a provision of this Code contains a reference to another provision of this Code but no Division is specified, both provisions are in the same Division of this Code.</p>]},\n",
       " {'title': '1.1.2.1. Application of Parts 1, 7 and 12',\n",
       "  'items': [<p class=\"subsection-e\"> <b>(1)</b> Part 1 of Division B applies to all <i>buildings</i>.</p>,\n",
       "   <p class=\"subsection-e\"> <b>(2)</b> Subject to Article 1.1.2.6., Parts 7 and 12 of Division B apply to all buildings.</p>]},\n",
       " {'title': '1.1.2.2. Application of Parts 3, 4, 5 and 6', 'items': []}]"
      ]
     },
     "execution_count": 130,
     "metadata": {},
     "output_type": "execute_result"
    }
   ],
   "source": [
    "sections"
   ]
  },
  {
   "cell_type": "code",
   "execution_count": 132,
   "metadata": {},
   "outputs": [],
   "source": [
    "def organ(list):\n",
    "    \n",
    "    for i in list:\n",
    "        \n",
    "        if i.attrs['class'] == ['subsection-e']:\n",
    "        \n",
    "            #get real sentence name\n",
    "            x = re.search(\"\\(([^)]+)\\)\", formatText(i))\n",
    "            x = x.group(0)\n",
    "            print(x)\n",
    "            sentence = x\n",
    "            print(sentence)\n",
    "        \n",
    "        "
   ]
  },
  {
   "cell_type": "code",
   "execution_count": null,
   "metadata": {},
   "outputs": [],
   "source": [
    "organ()"
   ]
  },
  {
   "cell_type": "code",
   "execution_count": 82,
   "metadata": {},
   "outputs": [
    {
     "name": "stdout",
     "output_type": "stream",
     "text": [
      "(1)\n",
      "(1)\n",
      "(1)\n",
      "(1)\n",
      "(1)\n",
      "(2)\n",
      "(1)\n"
     ]
    },
    {
     "ename": "TypeError",
     "evalue": "expected string or bytes-like object",
     "output_type": "error",
     "traceback": [
      "\u001b[0;31m---------------------------------------------------------------------------\u001b[0m",
      "\u001b[0;31mTypeError\u001b[0m                                 Traceback (most recent call last)",
      "\u001b[0;32m<ipython-input-82-6971dc3c1998>\u001b[0m in \u001b[0;36m<module>\u001b[0;34m\u001b[0m\n\u001b[1;32m     51\u001b[0m \u001b[0;34m\u001b[0m\u001b[0m\n\u001b[1;32m     52\u001b[0m         \u001b[0;31m#get real subclause name\u001b[0m\u001b[0;34m\u001b[0m\u001b[0;34m\u001b[0m\u001b[0;34m\u001b[0m\u001b[0m\n\u001b[0;32m---> 53\u001b[0;31m         \u001b[0mx\u001b[0m \u001b[0;34m=\u001b[0m \u001b[0mre\u001b[0m\u001b[0;34m.\u001b[0m\u001b[0msearch\u001b[0m\u001b[0;34m(\u001b[0m\u001b[0;34m\"\\(([^)]+)\\)\"\u001b[0m\u001b[0;34m,\u001b[0m \u001b[0;34m(\u001b[0m\u001b[0mpTags\u001b[0m\u001b[0;34m[\u001b[0m\u001b[0mi\u001b[0m\u001b[0;34m]\u001b[0m\u001b[0;34m)\u001b[0m\u001b[0;34m)\u001b[0m\u001b[0;34m\u001b[0m\u001b[0;34m\u001b[0m\u001b[0m\n\u001b[0m\u001b[1;32m     54\u001b[0m         \u001b[0mx\u001b[0m \u001b[0;34m=\u001b[0m \u001b[0mx\u001b[0m\u001b[0;34m.\u001b[0m\u001b[0mgroup\u001b[0m\u001b[0;34m(\u001b[0m\u001b[0;36m0\u001b[0m\u001b[0;34m)\u001b[0m\u001b[0;34m\u001b[0m\u001b[0;34m\u001b[0m\u001b[0m\n\u001b[1;32m     55\u001b[0m         \u001b[0msubclause\u001b[0m \u001b[0;34m=\u001b[0m \u001b[0mx\u001b[0m\u001b[0;34m\u001b[0m\u001b[0;34m\u001b[0m\u001b[0m\n",
      "\u001b[0;32m~/opt/anaconda3/lib/python3.7/re.py\u001b[0m in \u001b[0;36msearch\u001b[0;34m(pattern, string, flags)\u001b[0m\n\u001b[1;32m    181\u001b[0m     \"\"\"Scan through string looking for a match to the pattern, returning\n\u001b[1;32m    182\u001b[0m     a Match object, or None if no match was found.\"\"\"\n\u001b[0;32m--> 183\u001b[0;31m     \u001b[0;32mreturn\u001b[0m \u001b[0m_compile\u001b[0m\u001b[0;34m(\u001b[0m\u001b[0mpattern\u001b[0m\u001b[0;34m,\u001b[0m \u001b[0mflags\u001b[0m\u001b[0;34m)\u001b[0m\u001b[0;34m.\u001b[0m\u001b[0msearch\u001b[0m\u001b[0;34m(\u001b[0m\u001b[0mstring\u001b[0m\u001b[0;34m)\u001b[0m\u001b[0;34m\u001b[0m\u001b[0;34m\u001b[0m\u001b[0m\n\u001b[0m\u001b[1;32m    184\u001b[0m \u001b[0;34m\u001b[0m\u001b[0m\n\u001b[1;32m    185\u001b[0m \u001b[0;32mdef\u001b[0m \u001b[0msub\u001b[0m\u001b[0;34m(\u001b[0m\u001b[0mpattern\u001b[0m\u001b[0;34m,\u001b[0m \u001b[0mrepl\u001b[0m\u001b[0;34m,\u001b[0m \u001b[0mstring\u001b[0m\u001b[0;34m,\u001b[0m \u001b[0mcount\u001b[0m\u001b[0;34m=\u001b[0m\u001b[0;36m0\u001b[0m\u001b[0;34m,\u001b[0m \u001b[0mflags\u001b[0m\u001b[0;34m=\u001b[0m\u001b[0;36m0\u001b[0m\u001b[0;34m)\u001b[0m\u001b[0;34m:\u001b[0m\u001b[0;34m\u001b[0m\u001b[0;34m\u001b[0m\u001b[0m\n",
      "\u001b[0;31mTypeError\u001b[0m: expected string or bytes-like object"
     ]
    }
   ],
   "source": [
    "#putting each class in a dictionary\n",
    "\n",
    "for i in range(len(pTags)):\n",
    "    \n",
    "    #check class and put in dictionary based on class\n",
    "    if pTags[i].attrs['class'] == ['section-e']:\n",
    "        \n",
    "        #get real article name\n",
    "        x = re.search(\"\\d\\.\\d\\.\\d\\.\\d\\.\", str(pTags[i]))\n",
    "        x = x.group(0)\n",
    "        article = x\n",
    "        \n",
    "        #increase article index\n",
    "        #article += 1\n",
    "        \n",
    "        #New dictionary and entry for each article\n",
    "        p[f'Art{article}'] = {f'Article{article}':pTags[i]}\n",
    "        continue\n",
    "    \n",
    "    elif pTags[i].attrs['class'] == ['subsection-e']:\n",
    "        \n",
    "        #get real sentence name\n",
    "        x = re.search(\"\\(([^)]+)\\)\", str(pTags[i]))\n",
    "        x = x.group(0)\n",
    "        print(x)\n",
    "        sentence = x\n",
    "        \n",
    "        #create dictionary first time, named Sentences\n",
    "        #had to add a dummy entry because it was creating a list and typing seems difficult for nested dictionaries\n",
    "#         if x == '(1)':\n",
    "#             p[f'Art{article}'][f'Sen{x}'] = {'Dummy' : 'Entry'}\n",
    "        \n",
    "        p[f'Art{article}'][f'Sen{x}'] = { f'Sentence{x}': pTags[i]}\n",
    "        continue\n",
    "        \n",
    "    elif pTags[i].attrs['class'] == ['clause-e']:\n",
    "        \n",
    "        #get real clause name\n",
    "        x = re.search(\"\\(([^)]+)\\)\", str(pTags[i]))\n",
    "        x = x.group(0)\n",
    "        clause = x\n",
    "        \n",
    "#         if x == '(a)':\n",
    "#              p[f'Art{article}'][f'Sen{sentence}'][f'Cla{x}'] = {'Dummy' : 'Entry'}\n",
    "        \n",
    "        #create dictionary first time, then put in new entries\n",
    "        p[f'Art{article}'][f'Sen{sentence}'][f'Cla{x}'] = {f'Clause{x}': pTags[i]}\n",
    "        continue\n",
    "    \n",
    "    elif pTags[i].attrs['class'] == ['subclause-e']:\n",
    "        \n",
    "        #get real subclause name\n",
    "        x = re.search(\"\\(([^)]+)\\)\", (pTags[i]))\n",
    "        x = x.group(0)\n",
    "        subclause = x\n",
    "        \n",
    "#         if x == '(i)':\n",
    "#             p[f'Art{article}'][f'Sen{sentence}'][f'Cla{clause}'][f'SubC{x}'] = {'Dummy' : 'Entry'}\n",
    "        \n",
    "        #create dictionary first time, then put in new entries\n",
    "        p[f'Art{article}'][f'Sen{sentence}'][f'Cla{clause}'][f'SubC{x}'] = {f'Subclause{x}' : pTags[i]}\n",
    "        continue\n"
   ]
  },
  {
   "cell_type": "code",
   "execution_count": 83,
   "metadata": {},
   "outputs": [
    {
     "ename": "KeyError",
     "evalue": "'SubC(ii)'",
     "output_type": "error",
     "traceback": [
      "\u001b[0;31m---------------------------------------------------------------------------\u001b[0m",
      "\u001b[0;31mKeyError\u001b[0m                                  Traceback (most recent call last)",
      "\u001b[0;32m<ipython-input-83-563045cc7ebd>\u001b[0m in \u001b[0;36m<module>\u001b[0;34m\u001b[0m\n\u001b[1;32m      1\u001b[0m \u001b[0;31m#test\u001b[0m\u001b[0;34m\u001b[0m\u001b[0;34m\u001b[0m\u001b[0;34m\u001b[0m\u001b[0m\n\u001b[0;32m----> 2\u001b[0;31m \u001b[0mp\u001b[0m\u001b[0;34m[\u001b[0m\u001b[0;34m'Art1.1.2.2.'\u001b[0m\u001b[0;34m]\u001b[0m\u001b[0;34m[\u001b[0m\u001b[0;34m'Sen(1)'\u001b[0m\u001b[0;34m]\u001b[0m\u001b[0;34m[\u001b[0m\u001b[0;34m'Cla(a)'\u001b[0m\u001b[0;34m]\u001b[0m\u001b[0;34m[\u001b[0m\u001b[0;34m'SubC(ii)'\u001b[0m\u001b[0;34m]\u001b[0m\u001b[0;34m[\u001b[0m\u001b[0;34m'Subclause(ii)'\u001b[0m\u001b[0;34m]\u001b[0m\u001b[0;34m\u001b[0m\u001b[0;34m\u001b[0m\u001b[0m\n\u001b[0m",
      "\u001b[0;31mKeyError\u001b[0m: 'SubC(ii)'"
     ]
    }
   ],
   "source": [
    "#test\n",
    "p['Art1.1.2.2.']['Sen(1)']['Cla(a)']['SubC(ii)']['Subclause(ii)']"
   ]
  },
  {
   "cell_type": "code",
   "execution_count": null,
   "metadata": {},
   "outputs": [],
   "source": []
  },
  {
   "cell_type": "code",
   "execution_count": null,
   "metadata": {},
   "outputs": [],
   "source": []
  }
 ],
 "metadata": {
  "kernelspec": {
   "display_name": "Python 3",
   "language": "python",
   "name": "python3"
  },
  "language_info": {
   "codemirror_mode": {
    "name": "ipython",
    "version": 3
   },
   "file_extension": ".py",
   "mimetype": "text/x-python",
   "name": "python",
   "nbconvert_exporter": "python",
   "pygments_lexer": "ipython3",
   "version": "3.7.6"
  }
 },
 "nbformat": 4,
 "nbformat_minor": 4
}
