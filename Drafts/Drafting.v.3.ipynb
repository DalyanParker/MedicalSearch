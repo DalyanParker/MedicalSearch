{
 "cells": [
  {
   "cell_type": "code",
   "execution_count": 3,
   "metadata": {},
   "outputs": [],
   "source": [
    "import requests\n",
    "import urllib\n",
    "import time\n",
    "import copy\n",
    "import re\n",
    "import json\n",
    "from bs4 import BeautifulSoup"
   ]
  },
  {
   "cell_type": "code",
   "execution_count": 4,
   "metadata": {},
   "outputs": [
    {
     "name": "stdout",
     "output_type": "stream",
     "text": [
      "<Response [200]>\n"
     ]
    }
   ],
   "source": [
    "url = 'https://www.ontario.ca/laws/regulation/120332'\n",
    "response = requests.get(url)\n",
    "print(response)\n",
    "soup = BeautifulSoup(response.text, \"html.parser\")"
   ]
  },
  {
   "cell_type": "code",
   "execution_count": 10,
   "metadata": {},
   "outputs": [],
   "source": [
    "items = soup.find_all('p', class_ = ['section-e', 'subsection-e', 'clause-e', 'subclause-e'], limit = 30)"
   ]
  },
  {
   "cell_type": "code",
   "execution_count": 67,
   "metadata": {},
   "outputs": [],
   "source": [
    "def toJSON(title, obj):\n",
    "    with open(title + '.json', 'w', encoding='utf-8') as f:\n",
    "        json.dump(obj, f, ensure_ascii=False, indent=4)\n",
    "    return"
   ]
  },
  {
   "cell_type": "code",
   "execution_count": 6,
   "metadata": {},
   "outputs": [],
   "source": [
    "def formatText(text): \n",
    "    \n",
    "        text = str(text)\n",
    "    \n",
    "        cleaned = re.sub(r\"<b>|</b>\", \"\", text)\n",
    "        cleaned = re.sub(r\"<i>|</i>\", \"\", cleaned)\n",
    "        \n",
    "        if (\">\" in cleaned):\n",
    "              \n",
    "            start = cleaned.index(\">\") + 1\n",
    "            cleaned = cleaned[start:]\n",
    "            \n",
    "        if (\"<\" in cleaned):\n",
    "        \n",
    "            end = cleaned.index(\"<\")\n",
    "            cleaned = cleaned[:end]\n",
    "        \n",
    "\n",
    "        return cleaned"
   ]
  },
  {
   "cell_type": "code",
   "execution_count": 7,
   "metadata": {},
   "outputs": [],
   "source": [
    "def label(list):\n",
    "    \n",
    "    labeled = []\n",
    "    \n",
    "    \n",
    "    for item in list:\n",
    "        \n",
    "        if item.attrs['class'] == ['section-e']:\n",
    "            \n",
    "            cleaned = formatText(item)\n",
    "            labeled.append({\"type\": \"Section\", \"text\": cleaned})\n",
    "            \n",
    "            \n",
    "        elif item.attrs['class'] == ['subsection-e']:\n",
    "            cleaned = formatText(item)\n",
    "            labeled.append({\"type\": \"Sub Section\", \"text\": cleaned})\n",
    "            \n",
    "        elif item.attrs['class'] == ['clause-e']:\n",
    "            cleaned = formatText(item)\n",
    "            labeled.append({\"type\": \"Clause\", \"text\": cleaned})\n",
    "            \n",
    "        elif item.attrs['class'] == ['subclause-e']:\n",
    "            cleaned = formatText(item)\n",
    "            labeled.append({\"type\": \"Sub Clause\", \"text\": cleaned})\n",
    "            \n",
    "            \n",
    "    return labeled"
   ]
  },
  {
   "cell_type": "code",
   "execution_count": 11,
   "metadata": {},
   "outputs": [],
   "source": [
    "labeled = label(items)"
   ]
  },
  {
   "cell_type": "code",
   "execution_count": 13,
   "metadata": {},
   "outputs": [],
   "source": [
    "def partitionPoints(list, type):\n",
    "    \n",
    "    points = []\n",
    "    titles = []\n",
    "    \n",
    "    for item in list:\n",
    "        \n",
    "        if (item[\"type\"] == type):\n",
    "            points.append(list.index(item))\n",
    "            titles.append(item)\n",
    "        \n",
    "    return [ points, titles ]"
   ]
  },
  {
   "cell_type": "code",
   "execution_count": 14,
   "metadata": {},
   "outputs": [],
   "source": [
    "def partition(list, type):\n",
    "    \n",
    "    \n",
    "    points = partitionPoints(list, type)[0]\n",
    "    partitions = []\n",
    "    \n",
    "    for point in points:\n",
    "        \n",
    "        last_index = len(points) - 1\n",
    "        current_index = points.index(point)\n",
    "        \n",
    "        if (last_index != current_index):\n",
    "        \n",
    "            start = point + 1\n",
    "            end = points[current_index + 1]\n",
    "            partition = list[start:end]\n",
    "            \n",
    "    \n",
    "            \n",
    "        else:\n",
    "            \n",
    "            start = point + 1\n",
    "            partition = list[start:]\n",
    "            \n",
    "            \n",
    "        partitions.append(partition)\n",
    "    \n",
    "    \n",
    "    return partitions"
   ]
  },
  {
   "cell_type": "code",
   "execution_count": 57,
   "metadata": {},
   "outputs": [],
   "source": [
    "def correlate(partitions, titles, partition_type):\n",
    "    \n",
    "    list = []\n",
    "\n",
    "    \n",
    "    length = len(partitions)\n",
    "    \n",
    "    for i in range(length):\n",
    "              \n",
    "            \n",
    "        title = titles[i]\n",
    "        partition = partitions[i]\n",
    "    \n",
    "        \n",
    "        list.append({partition_type : title, \"Items\" : partition})\n",
    "              \n",
    "    return list"
   ]
  },
  {
   "cell_type": "code",
   "execution_count": 36,
   "metadata": {},
   "outputs": [],
   "source": [
    "def filterByType(l, types):\n",
    "\n",
    "    arr = list(filter(lambda i: i[\"type\"] not in types, l))\n",
    "    return arr"
   ]
  },
  {
   "cell_type": "code",
   "execution_count": 37,
   "metadata": {},
   "outputs": [],
   "source": [
    "def cleanByType(l, t):\n",
    "    \n",
    "    clean = []\n",
    "    \n",
    "    for i in l:\n",
    "        \n",
    "        cleaned = filterByType(i, t)\n",
    "        clean.append(cleaned)\n",
    "        \n",
    "    return clean"
   ]
  },
  {
   "cell_type": "code",
   "execution_count": 90,
   "metadata": {},
   "outputs": [],
   "source": [
    "sub_sections = partitionPoints(labeled, \"Sub Section\")[1]\n",
    "sub_section_partitions = partition(labeled, \"Sub Section\")\n",
    "sub_section_partitions = cleanByType(sub_section_partitions, [\"Section\"])"
   ]
  },
  {
   "cell_type": "code",
   "execution_count": 88,
   "metadata": {},
   "outputs": [
    {
     "data": {
      "text/plain": [
       "[{'type': 'Sub Section',\n",
       "  'text': '  (1) Division A contains compliance and application provisions and the objectives and functional statements\\r\\nof this Code.'},\n",
       " {'type': 'Sub Section',\n",
       "  'text': '  (1) Division B contains the acceptable solutions\\r\\nof this Code.'},\n",
       " {'type': 'Sub Section',\n",
       "  'text': '  (1) Division C contains the administrative provisions of this Code.'},\n",
       " {'type': 'Sub Section',\n",
       "  'text': '  (1) If a provision of this Code contains a reference to another provision of this Code but no Division is specified, both provisions are in the same Division of this Code.'},\n",
       " {'type': 'Sub Section',\n",
       "  'text': ' (1) Part 1 of Division B applies to all buildings.'},\n",
       " {'type': 'Sub Section',\n",
       "  'text': ' (2) Subject to Article 1.1.2.6., Parts 7 and 12 of Division B apply to all buildings.'},\n",
       " {'type': 'Sub Section',\n",
       "  'text': ' (1) Subject to Articles 1.1.2.6. and 1.3.1.2., Parts 3, 5 and 6 of Division B apply to all buildings,'},\n",
       " {'type': 'Sub Section',\n",
       "  'text': '  (2) Subject to Articles 1.1.2.6. and 1.3.1.2., Part 4 of Division B applies to,'}]"
      ]
     },
     "execution_count": 88,
     "metadata": {},
     "output_type": "execute_result"
    }
   ],
   "source": [
    "sub_sections"
   ]
  },
  {
   "cell_type": "code",
   "execution_count": 82,
   "metadata": {},
   "outputs": [],
   "source": [
    "def countItems(data):\n",
    "    \n",
    "    count = []\n",
    "    \n",
    "    for array in data:\n",
    "        \n",
    "        count.append(len(array))\n",
    "            \n",
    "    return count"
   ]
  },
  {
   "cell_type": "code",
   "execution_count": 84,
   "metadata": {},
   "outputs": [],
   "source": [
    "def filterItems(data, types):\n",
    "    \n",
    "    cleaned = []\n",
    "    \n",
    "    for array in data:\n",
    "        \n",
    "        clean = cleanByType(array, types)\n",
    "        cleaned.append(clean)\n",
    "        \n",
    "    return cleaned    "
   ]
  },
  {
   "cell_type": "code",
   "execution_count": 94,
   "metadata": {},
   "outputs": [],
   "source": [
    "k = cleanByType(sub_section_partitions, [\"Sub Clause\"])"
   ]
  },
  {
   "cell_type": "code",
   "execution_count": 95,
   "metadata": {},
   "outputs": [
    {
     "data": {
      "text/plain": [
       "[[],\n",
       " [],\n",
       " [],\n",
       " [],\n",
       " [],\n",
       " [],\n",
       " [{'type': 'Clause',\n",
       "   'text': '  (a) used for major occupancies classified as,'},\n",
       "  {'type': 'Clause', 'text': '  (b) exceeding 600 m'},\n",
       "  {'type': 'Clause', 'text': '  (c) used for retirement homes.'}],\n",
       " [{'type': 'Clause', 'text': '  (a)  post-disaster buildings,'},\n",
       "  {'type': 'Clause', 'text': '  (b)  buildings\\r\\ndescribed in Sentence (1),'},\n",
       "  {'type': 'Clause',\n",
       "   'text': '  (c) a retaining wall exceeding 1 000 mm in exposed height adjacent to,'}]]"
      ]
     },
     "execution_count": 95,
     "metadata": {},
     "output_type": "execute_result"
    }
   ],
   "source": [
    "k"
   ]
  },
  {
   "cell_type": "code",
   "execution_count": 96,
   "metadata": {},
   "outputs": [
    {
     "data": {
      "text/plain": [
       "[0, 0, 0, 0, 0, 0, 3, 3]"
      ]
     },
     "execution_count": 96,
     "metadata": {},
     "output_type": "execute_result"
    }
   ],
   "source": [
    "countItems(k)"
   ]
  },
  {
   "cell_type": "code",
   "execution_count": 103,
   "metadata": {},
   "outputs": [],
   "source": [
    "def place(count, items):\n",
    "    \n",
    "    placements = []\n",
    "    \n",
    "    for amount in count:\n",
    "                \n",
    "            placement = items[0:amount]\n",
    "            items = items[amount:]\n",
    "            \n",
    "            placements.append(placement)\n",
    "            \n",
    "            \n",
    "    return placements        "
   ]
  },
  {
   "cell_type": "code",
   "execution_count": 118,
   "metadata": {},
   "outputs": [
    {
     "data": {
      "text/plain": [
       "[{'Sub Section': {'type': 'Sub Section',\n",
       "   'text': '  (1) Division A contains compliance and application provisions and the objectives and functional statements\\r\\nof this Code.'},\n",
       "  'Items': []},\n",
       " {'Sub Section': {'type': 'Sub Section',\n",
       "   'text': '  (1) Division B contains the acceptable solutions\\r\\nof this Code.'},\n",
       "  'Items': []},\n",
       " {'Sub Section': {'type': 'Sub Section',\n",
       "   'text': '  (1) Division C contains the administrative provisions of this Code.'},\n",
       "  'Items': []},\n",
       " {'Sub Section': {'type': 'Sub Section',\n",
       "   'text': '  (1) If a provision of this Code contains a reference to another provision of this Code but no Division is specified, both provisions are in the same Division of this Code.'},\n",
       "  'Items': []},\n",
       " {'Sub Section': {'type': 'Sub Section',\n",
       "   'text': ' (1) Part 1 of Division B applies to all buildings.'},\n",
       "  'Items': []},\n",
       " {'Sub Section': {'type': 'Sub Section',\n",
       "   'text': ' (2) Subject to Article 1.1.2.6., Parts 7 and 12 of Division B apply to all buildings.'},\n",
       "  'Items': []},\n",
       " {'Sub Section': {'type': 'Sub Section',\n",
       "   'text': ' (1) Subject to Articles 1.1.2.6. and 1.3.1.2., Parts 3, 5 and 6 of Division B apply to all buildings,'},\n",
       "  'Items': [{'Clause': {'type': 'Clause',\n",
       "     'text': '  (a) used for major occupancies classified as,'},\n",
       "    'Items': [{'type': 'Sub Clause',\n",
       "      'text': '  (i) Group A, assembly occupancies,'},\n",
       "     {'type': 'Sub Clause',\n",
       "      'text': '  (ii) Group B, care, care and treatment or detention occupancies, or'},\n",
       "     {'type': 'Sub Clause',\n",
       "      'text': '  (iii) Group F, Division 1, high hazard industrial occupancies,'}]},\n",
       "   {'Clause': {'type': 'Clause', 'text': '  (b) exceeding 600 m'},\n",
       "    'Items': [{'type': 'Sub Clause',\n",
       "      'text': '  (i) Group C, residential occupancies,'},\n",
       "     {'type': 'Sub Clause',\n",
       "      'text': '  (ii) Group D, business and personal services occupancies,'},\n",
       "     {'type': 'Sub Clause',\n",
       "      'text': '  (iii) Group E, mercantile occupancies,'},\n",
       "     {'type': 'Sub Clause',\n",
       "      'text': '  (iv) Group F, Divisions 2 and 3, medium hazard industrial occupancies and low hazard industrial occupancies, or'}]},\n",
       "   {'Clause': {'type': 'Clause', 'text': '  (c) used for retirement homes.'},\n",
       "    'Items': []}]},\n",
       " {'Sub Section': {'type': 'Sub Section',\n",
       "   'text': '  (2) Subject to Articles 1.1.2.6. and 1.3.1.2., Part 4 of Division B applies to,'},\n",
       "  'Items': [{'Clause': {'type': 'Clause',\n",
       "     'text': '  (a)  post-disaster buildings,'},\n",
       "    'Items': []},\n",
       "   {'Clause': {'type': 'Clause',\n",
       "     'text': '  (b)  buildings\\r\\ndescribed in Sentence (1),'},\n",
       "    'Items': []},\n",
       "   {'Clause': {'type': 'Clause',\n",
       "     'text': '  (c) a retaining wall exceeding 1 000 mm in exposed height adjacent to,'},\n",
       "    'Items': [{'type': 'Sub Clause', 'text': '  (i) public property,'},\n",
       "     {'type': 'Sub Clause', 'text': '  (ii) access to a building, or'},\n",
       "     {'type': 'Sub Clause',\n",
       "      'text': '  (iii) private property to which the public is admitted,'}]}]}]"
      ]
     },
     "execution_count": 118,
     "metadata": {},
     "output_type": "execute_result"
    }
   ],
   "source": [
    "x = place(countItems(k), correlate(clause_partitions, clauses, \"Clause\"))\n",
    "correlate(x, sub_sections, \"Sub Section\")"
   ]
  },
  {
   "cell_type": "code",
   "execution_count": 104,
   "metadata": {},
   "outputs": [
    {
     "data": {
      "text/plain": [
       "[[], ['one'], ['two', 'three']]"
      ]
     },
     "execution_count": 104,
     "metadata": {},
     "output_type": "execute_result"
    }
   ],
   "source": [
    "place([0,1,2],[\"one\", \"two\"])"
   ]
  },
  {
   "cell_type": "code",
   "execution_count": 91,
   "metadata": {},
   "outputs": [
    {
     "data": {
      "text/plain": [
       "[[],\n",
       " [],\n",
       " [],\n",
       " [],\n",
       " [],\n",
       " [],\n",
       " [{'type': 'Clause',\n",
       "   'text': '  (a) used for major occupancies classified as,'},\n",
       "  {'type': 'Sub Clause', 'text': '  (i) Group A, assembly occupancies,'},\n",
       "  {'type': 'Sub Clause',\n",
       "   'text': '  (ii) Group B, care, care and treatment or detention occupancies, or'},\n",
       "  {'type': 'Sub Clause',\n",
       "   'text': '  (iii) Group F, Division 1, high hazard industrial occupancies,'},\n",
       "  {'type': 'Clause', 'text': '  (b) exceeding 600 m'},\n",
       "  {'type': 'Sub Clause', 'text': '  (i) Group C, residential occupancies,'},\n",
       "  {'type': 'Sub Clause',\n",
       "   'text': '  (ii) Group D, business and personal services occupancies,'},\n",
       "  {'type': 'Sub Clause', 'text': '  (iii) Group E, mercantile occupancies,'},\n",
       "  {'type': 'Sub Clause',\n",
       "   'text': '  (iv) Group F, Divisions 2 and 3, medium hazard industrial occupancies and low hazard industrial occupancies, or'},\n",
       "  {'type': 'Clause', 'text': '  (c) used for retirement homes.'}],\n",
       " [{'type': 'Clause', 'text': '  (a)  post-disaster buildings,'},\n",
       "  {'type': 'Clause', 'text': '  (b)  buildings\\r\\ndescribed in Sentence (1),'},\n",
       "  {'type': 'Clause',\n",
       "   'text': '  (c) a retaining wall exceeding 1 000 mm in exposed height adjacent to,'},\n",
       "  {'type': 'Sub Clause', 'text': '  (i) public property,'},\n",
       "  {'type': 'Sub Clause', 'text': '  (ii) access to a building, or'},\n",
       "  {'type': 'Sub Clause',\n",
       "   'text': '  (iii) private property to which the public is admitted,'}]]"
      ]
     },
     "execution_count": 91,
     "metadata": {},
     "output_type": "execute_result"
    }
   ],
   "source": [
    "sub_section_partitions"
   ]
  },
  {
   "cell_type": "code",
   "execution_count": 58,
   "metadata": {},
   "outputs": [
    {
     "data": {
      "text/plain": [
       "[{'Sub Section': {'type': 'Sub Section',\n",
       "   'text': '  (1) Division A contains compliance and application provisions and the objectives and functional statements\\r\\nof this Code.'},\n",
       "  'Items': []},\n",
       " {'Sub Section': {'type': 'Sub Section',\n",
       "   'text': '  (1) Division B contains the acceptable solutions\\r\\nof this Code.'},\n",
       "  'Items': []},\n",
       " {'Sub Section': {'type': 'Sub Section',\n",
       "   'text': '  (1) Division C contains the administrative provisions of this Code.'},\n",
       "  'Items': []},\n",
       " {'Sub Section': {'type': 'Sub Section',\n",
       "   'text': '  (1) If a provision of this Code contains a reference to another provision of this Code but no Division is specified, both provisions are in the same Division of this Code.'},\n",
       "  'Items': []},\n",
       " {'Sub Section': {'type': 'Sub Section',\n",
       "   'text': ' (1) Part 1 of Division B applies to all buildings.'},\n",
       "  'Items': []},\n",
       " {'Sub Section': {'type': 'Sub Section',\n",
       "   'text': ' (2) Subject to Article 1.1.2.6., Parts 7 and 12 of Division B apply to all buildings.'},\n",
       "  'Items': []},\n",
       " {'Sub Section': {'type': 'Sub Section',\n",
       "   'text': ' (1) Subject to Articles 1.1.2.6. and 1.3.1.2., Parts 3, 5 and 6 of Division B apply to all buildings,'},\n",
       "  'Items': [{'type': 'Clause',\n",
       "    'text': '  (a) used for major occupancies classified as,'},\n",
       "   {'type': 'Sub Clause', 'text': '  (i) Group A, assembly occupancies,'},\n",
       "   {'type': 'Sub Clause',\n",
       "    'text': '  (ii) Group B, care, care and treatment or detention occupancies, or'},\n",
       "   {'type': 'Sub Clause',\n",
       "    'text': '  (iii) Group F, Division 1, high hazard industrial occupancies,'},\n",
       "   {'type': 'Clause', 'text': '  (b) exceeding 600 m'},\n",
       "   {'type': 'Sub Clause', 'text': '  (i) Group C, residential occupancies,'},\n",
       "   {'type': 'Sub Clause',\n",
       "    'text': '  (ii) Group D, business and personal services occupancies,'},\n",
       "   {'type': 'Sub Clause', 'text': '  (iii) Group E, mercantile occupancies,'},\n",
       "   {'type': 'Sub Clause',\n",
       "    'text': '  (iv) Group F, Divisions 2 and 3, medium hazard industrial occupancies and low hazard industrial occupancies, or'},\n",
       "   {'type': 'Clause', 'text': '  (c) used for retirement homes.'}]},\n",
       " {'Sub Section': {'type': 'Sub Section',\n",
       "   'text': '  (2) Subject to Articles 1.1.2.6. and 1.3.1.2., Part 4 of Division B applies to,'},\n",
       "  'Items': [{'type': 'Clause', 'text': '  (a)  post-disaster buildings,'},\n",
       "   {'type': 'Clause',\n",
       "    'text': '  (b)  buildings\\r\\ndescribed in Sentence (1),'},\n",
       "   {'type': 'Clause',\n",
       "    'text': '  (c) a retaining wall exceeding 1 000 mm in exposed height adjacent to,'},\n",
       "   {'type': 'Sub Clause', 'text': '  (i) public property,'},\n",
       "   {'type': 'Sub Clause', 'text': '  (ii) access to a building, or'},\n",
       "   {'type': 'Sub Clause',\n",
       "    'text': '  (iii) private property to which the public is admitted,'}]}]"
      ]
     },
     "execution_count": 58,
     "metadata": {},
     "output_type": "execute_result"
    }
   ],
   "source": [
    "correlate(sub_section_partitions, sub_sections, \"Sub Section\")"
   ]
  },
  {
   "cell_type": "code",
   "execution_count": 61,
   "metadata": {},
   "outputs": [],
   "source": [
    "clauses = partitionPoints(labeled, \"Clause\")[1]\n",
    "clause_partitions = partition(labeled, \"Clause\")\n",
    "clause_partitions = cleanByType(clause_partitions, [\"Section\", \"Sub Section\"])"
   ]
  },
  {
   "cell_type": "code",
   "execution_count": 42,
   "metadata": {},
   "outputs": [
    {
     "data": {
      "text/plain": [
       "[[{'type': 'Sub Clause', 'text': '  (i) Group A, assembly occupancies,'},\n",
       "  {'type': 'Sub Clause',\n",
       "   'text': '  (ii) Group B, care, care and treatment or detention occupancies, or'},\n",
       "  {'type': 'Sub Clause',\n",
       "   'text': '  (iii) Group F, Division 1, high hazard industrial occupancies,'}],\n",
       " [{'type': 'Sub Clause', 'text': '  (i) Group C, residential occupancies,'},\n",
       "  {'type': 'Sub Clause',\n",
       "   'text': '  (ii) Group D, business and personal services occupancies,'},\n",
       "  {'type': 'Sub Clause', 'text': '  (iii) Group E, mercantile occupancies,'},\n",
       "  {'type': 'Sub Clause',\n",
       "   'text': '  (iv) Group F, Divisions 2 and 3, medium hazard industrial occupancies and low hazard industrial occupancies, or'}],\n",
       " [],\n",
       " [],\n",
       " [],\n",
       " [{'type': 'Sub Clause', 'text': '  (i) public property,'},\n",
       "  {'type': 'Sub Clause', 'text': '  (ii) access to a building, or'},\n",
       "  {'type': 'Sub Clause',\n",
       "   'text': '  (iii) private property to which the public is admitted,'}]]"
      ]
     },
     "execution_count": 42,
     "metadata": {},
     "output_type": "execute_result"
    }
   ],
   "source": [
    "clause_partitions"
   ]
  },
  {
   "cell_type": "code",
   "execution_count": 62,
   "metadata": {},
   "outputs": [
    {
     "data": {
      "text/plain": [
       "[{'type': 'Clause', 'text': '  (a) used for major occupancies classified as,'},\n",
       " {'type': 'Clause', 'text': '  (b) exceeding 600 m'},\n",
       " {'type': 'Clause', 'text': '  (c) used for retirement homes.'},\n",
       " {'type': 'Clause', 'text': '  (a)  post-disaster buildings,'},\n",
       " {'type': 'Clause', 'text': '  (b)  buildings\\r\\ndescribed in Sentence (1),'},\n",
       " {'type': 'Clause',\n",
       "  'text': '  (c) a retaining wall exceeding 1 000 mm in exposed height adjacent to,'}]"
      ]
     },
     "execution_count": 62,
     "metadata": {},
     "output_type": "execute_result"
    }
   ],
   "source": [
    "clauses"
   ]
  },
  {
   "cell_type": "code",
   "execution_count": 119,
   "metadata": {},
   "outputs": [],
   "source": [
    "toJSON(\"clauses\", correlate(clause_partitions, clauses, \"Clause\"))\n",
    "toJSON(\"sub_sections\", correlate(x, sub_sections, \"Sub Section\"))"
   ]
  },
  {
   "cell_type": "code",
   "execution_count": 73,
   "metadata": {},
   "outputs": [
    {
     "data": {
      "text/plain": [
       "[{'Clause': {'type': 'Clause',\n",
       "   'text': '  (a) used for major occupancies classified as,'},\n",
       "  'Items': [{'type': 'Sub Clause',\n",
       "    'text': '  (i) Group A, assembly occupancies,'},\n",
       "   {'type': 'Sub Clause',\n",
       "    'text': '  (ii) Group B, care, care and treatment or detention occupancies, or'},\n",
       "   {'type': 'Sub Clause',\n",
       "    'text': '  (iii) Group F, Division 1, high hazard industrial occupancies,'}]},\n",
       " {'Clause': {'type': 'Clause', 'text': '  (b) exceeding 600 m'},\n",
       "  'Items': [{'type': 'Sub Clause',\n",
       "    'text': '  (i) Group C, residential occupancies,'},\n",
       "   {'type': 'Sub Clause',\n",
       "    'text': '  (ii) Group D, business and personal services occupancies,'},\n",
       "   {'type': 'Sub Clause', 'text': '  (iii) Group E, mercantile occupancies,'},\n",
       "   {'type': 'Sub Clause',\n",
       "    'text': '  (iv) Group F, Divisions 2 and 3, medium hazard industrial occupancies and low hazard industrial occupancies, or'}]},\n",
       " {'Clause': {'type': 'Clause', 'text': '  (c) used for retirement homes.'},\n",
       "  'Items': []},\n",
       " {'Clause': {'type': 'Clause', 'text': '  (a)  post-disaster buildings,'},\n",
       "  'Items': []},\n",
       " {'Clause': {'type': 'Clause',\n",
       "   'text': '  (b)  buildings\\r\\ndescribed in Sentence (1),'},\n",
       "  'Items': []},\n",
       " {'Clause': {'type': 'Clause',\n",
       "   'text': '  (c) a retaining wall exceeding 1 000 mm in exposed height adjacent to,'},\n",
       "  'Items': [{'type': 'Sub Clause', 'text': '  (i) public property,'},\n",
       "   {'type': 'Sub Clause', 'text': '  (ii) access to a building, or'},\n",
       "   {'type': 'Sub Clause',\n",
       "    'text': '  (iii) private property to which the public is admitted,'}]}]"
      ]
     },
     "execution_count": 73,
     "metadata": {},
     "output_type": "execute_result"
    }
   ],
   "source": [
    "correlate(clause_partitions, clauses, \"Clause\")"
   ]
  },
  {
   "cell_type": "code",
   "execution_count": 111,
   "metadata": {},
   "outputs": [],
   "source": [
    "toJSON(\"sub_section_items\", place(countItems(k), correlate(clause_partitions, clauses, \"Clause\")))"
   ]
  },
  {
   "cell_type": "code",
   "execution_count": null,
   "metadata": {},
   "outputs": [],
   "source": []
  }
 ],
 "metadata": {
  "kernelspec": {
   "display_name": "Python 3",
   "language": "python",
   "name": "python3"
  },
  "language_info": {
   "codemirror_mode": {
    "name": "ipython",
    "version": 3
   },
   "file_extension": ".py",
   "mimetype": "text/x-python",
   "name": "python",
   "nbconvert_exporter": "python",
   "pygments_lexer": "ipython3",
   "version": "3.7.6"
  }
 },
 "nbformat": 4,
 "nbformat_minor": 4
}
