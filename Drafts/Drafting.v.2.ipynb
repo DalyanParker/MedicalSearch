{
 "cells": [
  {
   "cell_type": "code",
   "execution_count": 3,
   "metadata": {},
   "outputs": [],
   "source": [
    "import requests\n",
    "import urllib\n",
    "import time\n",
    "import copy\n",
    "import re\n",
    "from bs4 import BeautifulSoup\n",
    "import json"
   ]
  },
  {
   "cell_type": "code",
   "execution_count": 4,
   "metadata": {},
   "outputs": [
    {
     "name": "stdout",
     "output_type": "stream",
     "text": [
      "<Response [200]>\n"
     ]
    }
   ],
   "source": [
    "#1 Part\n",
    "#1.1 Section\n",
    "#1.1.1 Subsection\n",
    "#1.1.1.1. Article\n",
    "#\t(1) Sentence\n",
    "#\t\t(a) Clause\n",
    "#\t\t\t(i) Subclause\n",
    "\n",
    "\n",
    "#Actual dictionary structure looks like this:\n",
    "#ArtX\n",
    "    #ArticleX\n",
    "    #SentenceX\n",
    "        #ClauseX\n",
    "            #SubclauseX\n",
    "\n",
    "url = 'https://www.ontario.ca/laws/regulation/120332'\n",
    "response = requests.get(url)\n",
    "print(response)\n",
    "soup = BeautifulSoup(response.text, \"html.parser\")"
   ]
  },
  {
   "cell_type": "code",
   "execution_count": 5,
   "metadata": {},
   "outputs": [],
   "source": [
    "#Make list of all the results for 'p' tags\n",
    "#notice limit is just so we have a smaller list to test with\n",
    "pTags = soup.find_all('p', class_ = ['section-e', 'subsection-e', 'clause-e', 'subclause-e'], limit = 30)"
   ]
  },
  {
   "cell_type": "code",
   "execution_count": 6,
   "metadata": {},
   "outputs": [],
   "source": [
    "#create dictionary to contain dictionaries\n",
    "p: dict = {}\n",
    "\n",
    "#index for articles (for now), needs different regex expression than sentences, etc.\n",
    "article = -1"
   ]
  },
  {
   "cell_type": "code",
   "execution_count": 7,
   "metadata": {},
   "outputs": [],
   "source": [
    "def formatText(text): \n",
    "    \n",
    "        text = str(text)\n",
    "    \n",
    "        cleaned = re.sub(r\"<b>|</b>\", \"\", text)\n",
    "        cleaned = re.sub(r\"<i>|</i>\", \"\", cleaned)\n",
    "        \n",
    "        if (\">\" in cleaned):\n",
    "              \n",
    "            start = cleaned.index(\">\") + 1\n",
    "            cleaned = cleaned[start:]\n",
    "            \n",
    "        if (\"<\" in cleaned):\n",
    "        \n",
    "            end = cleaned.index(\"<\")\n",
    "            cleaned = cleaned[:end]\n",
    "        \n",
    "\n",
    "        return cleaned"
   ]
  },
  {
   "cell_type": "code",
   "execution_count": 8,
   "metadata": {},
   "outputs": [],
   "source": [
    "def label(list):\n",
    "    \n",
    "    labeled = []\n",
    "    \n",
    "    \n",
    "    for item in list:\n",
    "        \n",
    "        if item.attrs['class'] == ['section-e']:\n",
    "            \n",
    "            cleaned = formatText(item)\n",
    "            labeled.append({\"type\": \"Section\", \"text\": cleaned})\n",
    "            \n",
    "            \n",
    "        elif item.attrs['class'] == ['subsection-e']:\n",
    "            cleaned = formatText(item)\n",
    "            labeled.append({\"type\": \"Sub Section\", \"text\": cleaned})\n",
    "            \n",
    "        elif item.attrs['class'] == ['clause-e']:\n",
    "            cleaned = formatText(item)\n",
    "            labeled.append({\"type\": \"Clause\", \"text\": cleaned})\n",
    "            \n",
    "        elif item.attrs['class'] == ['subclause-e']:\n",
    "            cleaned = formatText(item)\n",
    "            labeled.append({\"type\": \"Sub Clause\", \"text\": cleaned})\n",
    "            \n",
    "            \n",
    "    return labeled"
   ]
  },
  {
   "cell_type": "code",
   "execution_count": 9,
   "metadata": {},
   "outputs": [],
   "source": [
    "labeled = label(pTags)"
   ]
  },
  {
   "cell_type": "code",
   "execution_count": 10,
   "metadata": {},
   "outputs": [],
   "source": [
    "def partitionPoints(list, type):\n",
    "    \n",
    "    points = []\n",
    "    titles = []\n",
    "    \n",
    "    for item in list:\n",
    "        \n",
    "        if (item[\"type\"] == type):\n",
    "            points.append(list.index(item))\n",
    "            titles.append(item)\n",
    "        \n",
    "    return [ points, titles ]"
   ]
  },
  {
   "cell_type": "code",
   "execution_count": 11,
   "metadata": {},
   "outputs": [],
   "source": [
    "def partition(list, type):\n",
    "    \n",
    "    \n",
    "    points = partitionPoints(list, type)[0]\n",
    "    partitions = []\n",
    "    \n",
    "    for point in points:\n",
    "        \n",
    "        last_index = len(points) - 1\n",
    "        current_index = points.index(point)\n",
    "        \n",
    "        if (last_index != current_index):\n",
    "        \n",
    "            start = point + 1\n",
    "            end = points[current_index + 1]\n",
    "            partition = list[start:end]\n",
    "            \n",
    "    \n",
    "            \n",
    "        else:\n",
    "            \n",
    "            start = point + 1\n",
    "            partition = list[start:]\n",
    "            \n",
    "            \n",
    "        partitions.append(partition)\n",
    "    \n",
    "    \n",
    "    return partitions"
   ]
  },
  {
   "cell_type": "code",
   "execution_count": 12,
   "metadata": {},
   "outputs": [],
   "source": [
    "def correlate(partitions, titles):\n",
    "    \n",
    "    list = []\n",
    "\n",
    "    \n",
    "    length = len(partitions)\n",
    "    \n",
    "    for i in range(length):\n",
    "              \n",
    "            \n",
    "        title = titles[i]\n",
    "        partition = partitions[i]\n",
    "    \n",
    "        \n",
    "        list.append({\"Section\" : title, \"Items\" : partition})\n",
    "              \n",
    "    return list"
   ]
  },
  {
   "cell_type": "code",
   "execution_count": 13,
   "metadata": {},
   "outputs": [],
   "source": [
    "p = partitionPoints(labeled, \"Section\")"
   ]
  },
  {
   "cell_type": "code",
   "execution_count": 14,
   "metadata": {},
   "outputs": [],
   "source": [
    "section_partitions = partition(labeled, \"Section\")"
   ]
  },
  {
   "cell_type": "code",
   "execution_count": 33,
   "metadata": {},
   "outputs": [
    {
     "data": {
      "text/plain": [
       "[{'type': 'Sub Section',\n",
       "  'text': '  (1) Division A contains compliance and application provisions and the objectives and functional statements\\r\\nof this Code.'}]"
      ]
     },
     "execution_count": 33,
     "metadata": {},
     "output_type": "execute_result"
    }
   ],
   "source": [
    "section_partitions[0]"
   ]
  },
  {
   "cell_type": "code",
   "execution_count": 16,
   "metadata": {},
   "outputs": [],
   "source": [
    "r = correlate(section_partitions, p[1])"
   ]
  },
  {
   "cell_type": "code",
   "execution_count": 59,
   "metadata": {},
   "outputs": [],
   "source": [
    "j = partitionPoints(labeled, \"Sub Section\")"
   ]
  },
  {
   "cell_type": "code",
   "execution_count": 62,
   "metadata": {},
   "outputs": [],
   "source": [
    "sub_section_partitions = partition(labeled, \"Sub Section\")"
   ]
  },
  {
   "cell_type": "code",
   "execution_count": 63,
   "metadata": {},
   "outputs": [
    {
     "data": {
      "text/plain": [
       "[[{'type': 'Section', 'text': '1.1.1.2. Scope of Division B'}],\n",
       " [{'type': 'Section', 'text': '1.1.1.3. Scope of Division C'}],\n",
       " [{'type': 'Section', 'text': '1.1.1.4. Internal Cross-references'}],\n",
       " [{'type': 'Section', 'text': '1.1.2.1. Application of Parts 1, 7 and 12'}],\n",
       " [],\n",
       " [{'type': 'Section', 'text': '1.1.2.2. Application of Parts 3, 4, 5 and 6'}],\n",
       " [{'type': 'Clause',\n",
       "   'text': '  (a) used for major occupancies classified as,'},\n",
       "  {'type': 'Sub Clause', 'text': '  (i) Group A, assembly occupancies,'},\n",
       "  {'type': 'Sub Clause',\n",
       "   'text': '  (ii) Group B, care, care and treatment or detention occupancies, or'},\n",
       "  {'type': 'Sub Clause',\n",
       "   'text': '  (iii) Group F, Division 1, high hazard industrial occupancies,'},\n",
       "  {'type': 'Clause', 'text': '  (b) exceeding 600 m'},\n",
       "  {'type': 'Sub Clause', 'text': '  (i) Group C, residential occupancies,'},\n",
       "  {'type': 'Sub Clause',\n",
       "   'text': '  (ii) Group D, business and personal services occupancies,'},\n",
       "  {'type': 'Sub Clause', 'text': '  (iii) Group E, mercantile occupancies,'},\n",
       "  {'type': 'Sub Clause',\n",
       "   'text': '  (iv) Group F, Divisions 2 and 3, medium hazard industrial occupancies and low hazard industrial occupancies, or'},\n",
       "  {'type': 'Clause', 'text': '  (c) used for retirement homes.'}],\n",
       " [{'type': 'Clause', 'text': '  (a)  post-disaster buildings,'},\n",
       "  {'type': 'Clause', 'text': '  (b)  buildings\\r\\ndescribed in Sentence (1),'},\n",
       "  {'type': 'Clause',\n",
       "   'text': '  (c) a retaining wall exceeding 1 000 mm in exposed height adjacent to,'},\n",
       "  {'type': 'Sub Clause', 'text': '  (i) public property,'},\n",
       "  {'type': 'Sub Clause', 'text': '  (ii) access to a building, or'},\n",
       "  {'type': 'Sub Clause',\n",
       "   'text': '  (iii) private property to which the public is admitted,'}]]"
      ]
     },
     "execution_count": 63,
     "metadata": {},
     "output_type": "execute_result"
    }
   ],
   "source": [
    "sub_section_partitions"
   ]
  },
  {
   "cell_type": "code",
   "execution_count": 105,
   "metadata": {},
   "outputs": [],
   "source": [
    "def filterByType(l, type):\n",
    "\n",
    "    arr = list(filter(lambda i: i[\"type\"] != type, l))\n",
    "    return arr"
   ]
  },
  {
   "cell_type": "code",
   "execution_count": 108,
   "metadata": {},
   "outputs": [],
   "source": [
    "def cleanByType(l, t):\n",
    "    \n",
    "    clean = []\n",
    "    \n",
    "    for i in l:\n",
    "        \n",
    "        cleaned = filterByType(i, t)\n",
    "        clean.append(cleaned)\n",
    "        \n",
    "    return clean"
   ]
  },
  {
   "cell_type": "code",
   "execution_count": 110,
   "metadata": {},
   "outputs": [],
   "source": [
    "sub_section_partitions = cleanByType(sub_section_partitions, \"Section\")"
   ]
  },
  {
   "cell_type": "code",
   "execution_count": 111,
   "metadata": {},
   "outputs": [
    {
     "data": {
      "text/plain": [
       "[[],\n",
       " [],\n",
       " [],\n",
       " [],\n",
       " [],\n",
       " [],\n",
       " [{'type': 'Clause',\n",
       "   'text': '  (a) used for major occupancies classified as,'},\n",
       "  {'type': 'Sub Clause', 'text': '  (i) Group A, assembly occupancies,'},\n",
       "  {'type': 'Sub Clause',\n",
       "   'text': '  (ii) Group B, care, care and treatment or detention occupancies, or'},\n",
       "  {'type': 'Sub Clause',\n",
       "   'text': '  (iii) Group F, Division 1, high hazard industrial occupancies,'},\n",
       "  {'type': 'Clause', 'text': '  (b) exceeding 600 m'},\n",
       "  {'type': 'Sub Clause', 'text': '  (i) Group C, residential occupancies,'},\n",
       "  {'type': 'Sub Clause',\n",
       "   'text': '  (ii) Group D, business and personal services occupancies,'},\n",
       "  {'type': 'Sub Clause', 'text': '  (iii) Group E, mercantile occupancies,'},\n",
       "  {'type': 'Sub Clause',\n",
       "   'text': '  (iv) Group F, Divisions 2 and 3, medium hazard industrial occupancies and low hazard industrial occupancies, or'},\n",
       "  {'type': 'Clause', 'text': '  (c) used for retirement homes.'}],\n",
       " [{'type': 'Clause', 'text': '  (a)  post-disaster buildings,'},\n",
       "  {'type': 'Clause', 'text': '  (b)  buildings\\r\\ndescribed in Sentence (1),'},\n",
       "  {'type': 'Clause',\n",
       "   'text': '  (c) a retaining wall exceeding 1 000 mm in exposed height adjacent to,'},\n",
       "  {'type': 'Sub Clause', 'text': '  (i) public property,'},\n",
       "  {'type': 'Sub Clause', 'text': '  (ii) access to a building, or'},\n",
       "  {'type': 'Sub Clause',\n",
       "   'text': '  (iii) private property to which the public is admitted,'}]]"
      ]
     },
     "execution_count": 111,
     "metadata": {},
     "output_type": "execute_result"
    }
   ],
   "source": [
    "sub_section_partitions"
   ]
  },
  {
   "cell_type": "code",
   "execution_count": 206,
   "metadata": {},
   "outputs": [],
   "source": [
    "with open('data.json', 'w', encoding='utf-8') as f:\n",
    "    json.dump(r, f, ensure_ascii=False, indent=4)"
   ]
  },
  {
   "cell_type": "code",
   "execution_count": 119,
   "metadata": {},
   "outputs": [],
   "source": [
    "def cleanText(list): \n",
    "    \n",
    "    cleaned = []\n",
    "    \n",
    "    for i in list:\n",
    "        clean_text = formatText(i)\n",
    "        cleaned.append(clean_text)\n",
    "        \n",
    "    return cleaned"
   ]
  },
  {
   "cell_type": "code",
   "execution_count": 52,
   "metadata": {},
   "outputs": [
    {
     "name": "stdout",
     "output_type": "stream",
     "text": [
      "[{'type': 'Sub Section', 'text': '  (1) Division A contains compliance and application provisions and the objectives and functional statements\\r\\nof this Code.'}]\n",
      "[{'type': 'Sub Section', 'text': '  (1) Division B contains the acceptable solutions\\r\\nof this Code.'}]\n",
      "[{'type': 'Sub Section', 'text': '  (1) Division C contains the administrative provisions of this Code.'}]\n",
      "[{'type': 'Sub Section', 'text': '  (1) If a provision of this Code contains a reference to another provision of this Code but no Division is specified, both provisions are in the same Division of this Code.'}]\n",
      "[{'type': 'Sub Section', 'text': ' (1) Part 1 of Division B applies to all buildings.'}, {'type': 'Sub Section', 'text': ' (2) Subject to Article 1.1.2.6., Parts 7 and 12 of Division B apply to all buildings.'}]\n",
      "[{'type': 'Sub Section', 'text': ' (1) Subject to Articles 1.1.2.6. and 1.3.1.2., Parts 3, 5 and 6 of Division B apply to all buildings,'}, {'type': 'Clause', 'text': '  (a) used for major occupancies classified as,'}, {'type': 'Sub Clause', 'text': '  (i) Group A, assembly occupancies,'}, {'type': 'Sub Clause', 'text': '  (ii) Group B, care, care and treatment or detention occupancies, or'}, {'type': 'Sub Clause', 'text': '  (iii) Group F, Division 1, high hazard industrial occupancies,'}, {'type': 'Clause', 'text': '  (b) exceeding 600 m'}, {'type': 'Sub Clause', 'text': '  (i) Group C, residential occupancies,'}, {'type': 'Sub Clause', 'text': '  (ii) Group D, business and personal services occupancies,'}, {'type': 'Sub Clause', 'text': '  (iii) Group E, mercantile occupancies,'}, {'type': 'Sub Clause', 'text': '  (iv) Group F, Divisions 2 and 3, medium hazard industrial occupancies and low hazard industrial occupancies, or'}, {'type': 'Clause', 'text': '  (c) used for retirement homes.'}, {'type': 'Sub Section', 'text': '  (2) Subject to Articles 1.1.2.6. and 1.3.1.2., Part 4 of Division B applies to,'}, {'type': 'Clause', 'text': '  (a)  post-disaster buildings,'}, {'type': 'Clause', 'text': '  (b)  buildings\\r\\ndescribed in Sentence (1),'}, {'type': 'Clause', 'text': '  (c) a retaining wall exceeding 1 000 mm in exposed height adjacent to,'}, {'type': 'Sub Clause', 'text': '  (i) public property,'}, {'type': 'Sub Clause', 'text': '  (ii) access to a building, or'}, {'type': 'Sub Clause', 'text': '  (iii) private property to which the public is admitted,'}]\n"
     ]
    }
   ],
   "source": [
    "\n",
    "\n",
    "\n",
    "arr = []\n",
    "\n",
    "for i in r:\n",
    "    \n",
    "    items = i[\"Items\"]\n",
    "    print(items)\n",
    "    group = partition(items,\"Sub Section\" )\n",
    "    arr.append(group)"
   ]
  },
  {
   "cell_type": "code",
   "execution_count": 56,
   "metadata": {},
   "outputs": [
    {
     "data": {
      "text/plain": [
       "[[{'type': 'Clause',\n",
       "   'text': '  (a) used for major occupancies classified as,'},\n",
       "  {'type': 'Sub Clause', 'text': '  (i) Group A, assembly occupancies,'},\n",
       "  {'type': 'Sub Clause',\n",
       "   'text': '  (ii) Group B, care, care and treatment or detention occupancies, or'},\n",
       "  {'type': 'Sub Clause',\n",
       "   'text': '  (iii) Group F, Division 1, high hazard industrial occupancies,'},\n",
       "  {'type': 'Clause', 'text': '  (b) exceeding 600 m'},\n",
       "  {'type': 'Sub Clause', 'text': '  (i) Group C, residential occupancies,'},\n",
       "  {'type': 'Sub Clause',\n",
       "   'text': '  (ii) Group D, business and personal services occupancies,'},\n",
       "  {'type': 'Sub Clause', 'text': '  (iii) Group E, mercantile occupancies,'},\n",
       "  {'type': 'Sub Clause',\n",
       "   'text': '  (iv) Group F, Divisions 2 and 3, medium hazard industrial occupancies and low hazard industrial occupancies, or'},\n",
       "  {'type': 'Clause', 'text': '  (c) used for retirement homes.'}],\n",
       " [{'type': 'Clause', 'text': '  (a)  post-disaster buildings,'},\n",
       "  {'type': 'Clause', 'text': '  (b)  buildings\\r\\ndescribed in Sentence (1),'},\n",
       "  {'type': 'Clause',\n",
       "   'text': '  (c) a retaining wall exceeding 1 000 mm in exposed height adjacent to,'},\n",
       "  {'type': 'Sub Clause', 'text': '  (i) public property,'},\n",
       "  {'type': 'Sub Clause', 'text': '  (ii) access to a building, or'},\n",
       "  {'type': 'Sub Clause',\n",
       "   'text': '  (iii) private property to which the public is admitted,'}]]"
      ]
     },
     "execution_count": 56,
     "metadata": {},
     "output_type": "execute_result"
    }
   ],
   "source": [
    "arr[5]"
   ]
  },
  {
   "cell_type": "code",
   "execution_count": 49,
   "metadata": {},
   "outputs": [],
   "source": [
    "def part(list, type):\n",
    "\n",
    "\n",
    "    for i in list:\n",
    "\n",
    "        items = i[\"Items\"]\n",
    "        print(items)\n",
    "\n",
    "        group = partition(items,\"Sub Section\")\n",
    "        titles = partitionPoints(items,\"Sub Section\")[1]\n",
    "        \n",
    "        print(titles)\n"
   ]
  },
  {
   "cell_type": "code",
   "execution_count": 51,
   "metadata": {},
   "outputs": [
    {
     "ename": "TypeError",
     "evalue": "list indices must be integers or slices, not str",
     "output_type": "error",
     "traceback": [
      "\u001b[0;31m---------------------------------------------------------------------------\u001b[0m",
      "\u001b[0;31mTypeError\u001b[0m                                 Traceback (most recent call last)",
      "\u001b[0;32m<ipython-input-51-f1e0e17d7a59>\u001b[0m in \u001b[0;36m<module>\u001b[0;34m\u001b[0m\n\u001b[0;32m----> 1\u001b[0;31m \u001b[0mpart\u001b[0m\u001b[0;34m(\u001b[0m\u001b[0marr\u001b[0m\u001b[0;34m,\u001b[0m \u001b[0;34m\"Sub Section\"\u001b[0m\u001b[0;34m)\u001b[0m\u001b[0;34m\u001b[0m\u001b[0;34m\u001b[0m\u001b[0m\n\u001b[0m",
      "\u001b[0;32m<ipython-input-49-ba3f7cb63111>\u001b[0m in \u001b[0;36mpart\u001b[0;34m(list, type)\u001b[0m\n\u001b[1;32m      4\u001b[0m     \u001b[0;32mfor\u001b[0m \u001b[0mi\u001b[0m \u001b[0;32min\u001b[0m \u001b[0mlist\u001b[0m\u001b[0;34m:\u001b[0m\u001b[0;34m\u001b[0m\u001b[0;34m\u001b[0m\u001b[0m\n\u001b[1;32m      5\u001b[0m \u001b[0;34m\u001b[0m\u001b[0m\n\u001b[0;32m----> 6\u001b[0;31m         \u001b[0mitems\u001b[0m \u001b[0;34m=\u001b[0m \u001b[0mi\u001b[0m\u001b[0;34m[\u001b[0m\u001b[0;34m\"Items\"\u001b[0m\u001b[0;34m]\u001b[0m\u001b[0;34m\u001b[0m\u001b[0;34m\u001b[0m\u001b[0m\n\u001b[0m\u001b[1;32m      7\u001b[0m         \u001b[0mprint\u001b[0m\u001b[0;34m(\u001b[0m\u001b[0mitems\u001b[0m\u001b[0;34m)\u001b[0m\u001b[0;34m\u001b[0m\u001b[0;34m\u001b[0m\u001b[0m\n\u001b[1;32m      8\u001b[0m \u001b[0;34m\u001b[0m\u001b[0m\n",
      "\u001b[0;31mTypeError\u001b[0m: list indices must be integers or slices, not str"
     ]
    }
   ],
   "source": [
    "part(arr, \"Sub Section\")"
   ]
  },
  {
   "cell_type": "code",
   "execution_count": null,
   "metadata": {},
   "outputs": [],
   "source": []
  }
 ],
 "metadata": {
  "kernelspec": {
   "display_name": "Python 3",
   "language": "python",
   "name": "python3"
  },
  "language_info": {
   "codemirror_mode": {
    "name": "ipython",
    "version": 3
   },
   "file_extension": ".py",
   "mimetype": "text/x-python",
   "name": "python",
   "nbconvert_exporter": "python",
   "pygments_lexer": "ipython3",
   "version": "3.7.6"
  }
 },
 "nbformat": 4,
 "nbformat_minor": 4
}
